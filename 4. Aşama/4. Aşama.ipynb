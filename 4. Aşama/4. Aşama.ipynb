{
  "nbformat": 4,
  "nbformat_minor": 0,
  "metadata": {
    "colab": {
      "name": "Untitled0.ipynb",
      "provenance": [],
      "collapsed_sections": []
    },
    "kernelspec": {
      "display_name": "Python 3",
      "language": "python",
      "name": "python3"
    },
    "language_info": {
      "codemirror_mode": {
        "name": "ipython",
        "version": 3
      },
      "file_extension": ".py",
      "mimetype": "text/x-python",
      "name": "python",
      "nbconvert_exporter": "python",
      "pygments_lexer": "ipython3",
      "version": "3.7.7"
    }
  },
  "cells": [
    {
      "cell_type": "code",
      "metadata": {
        "colab_type": "code",
        "id": "Ki6b9XeKiMWM",
        "outputId": "b32462d8-a627-4bbb-92e0-061417463d93",
        "colab": {
          "base_uri": "https://localhost:8080/",
          "height": 54
        }
      },
      "source": [
        "from google.colab import drive\n",
        "drive.mount(\"/content/drive\")\n"
      ],
      "execution_count": 1,
      "outputs": [
        {
          "output_type": "stream",
          "text": [
            "Drive already mounted at /content/drive; to attempt to forcibly remount, call drive.mount(\"/content/drive\", force_remount=True).\n"
          ],
          "name": "stdout"
        }
      ]
    },
    {
      "cell_type": "code",
      "metadata": {
        "id": "SToYue9zs9D8",
        "colab_type": "code",
        "colab": {
          "base_uri": "https://localhost:8080/",
          "height": 72
        },
        "outputId": "7b7a3b24-b89f-48ae-893f-fcccbc85311d"
      },
      "source": [
        "import numpy as np  \n",
        "import pandas as pd \n",
        "import matplotlib.pyplot as plt\n",
        "import seaborn as sns\n",
        "\n",
        "plt.rcParams['figure.figsize'] = (10, 7)\n",
        "\n",
        "import warnings\n",
        "warnings.filterwarnings('ignore')"
      ],
      "execution_count": 2,
      "outputs": [
        {
          "output_type": "stream",
          "text": [
            "/usr/local/lib/python3.6/dist-packages/statsmodels/tools/_testing.py:19: FutureWarning: pandas.util.testing is deprecated. Use the functions in the public API at pandas.testing instead.\n",
            "  import pandas.util.testing as tm\n"
          ],
          "name": "stderr"
        }
      ]
    },
    {
      "cell_type": "code",
      "metadata": {
        "colab_type": "code",
        "id": "BZXiOL8xiMUq",
        "outputId": "a1620ea3-b84d-4d27-a11c-98185a2b57c0",
        "colab": {
          "base_uri": "https://localhost:8080/",
          "height": 197
        }
      },
      "source": [
        "data=pd.read_csv('/content/drive/My Drive/Güncel Konular/veri/veri.csv',encoding=\"ISO-8859-1\")\n",
        "data_tarihsiz = data.select_dtypes(include=['float64'])\n",
        "data_tarihsiz.head()\n",
        "\n",
        "\n",
        " "
      ],
      "execution_count": 3,
      "outputs": [
        {
          "output_type": "execute_result",
          "data": {
            "text/html": [
              "<div>\n",
              "<style scoped>\n",
              "    .dataframe tbody tr th:only-of-type {\n",
              "        vertical-align: middle;\n",
              "    }\n",
              "\n",
              "    .dataframe tbody tr th {\n",
              "        vertical-align: top;\n",
              "    }\n",
              "\n",
              "    .dataframe thead th {\n",
              "        text-align: right;\n",
              "    }\n",
              "</style>\n",
              "<table border=\"1\" class=\"dataframe\">\n",
              "  <thead>\n",
              "    <tr style=\"text-align: right;\">\n",
              "      <th></th>\n",
              "      <th>PM10</th>\n",
              "      <th>SO2</th>\n",
              "      <th>CO</th>\n",
              "      <th>NO2</th>\n",
              "      <th>NOX</th>\n",
              "      <th>NO</th>\n",
              "    </tr>\n",
              "  </thead>\n",
              "  <tbody>\n",
              "    <tr>\n",
              "      <th>0</th>\n",
              "      <td>21.417008</td>\n",
              "      <td>4.629833</td>\n",
              "      <td>605.988096</td>\n",
              "      <td>31.849611</td>\n",
              "      <td>46.945543</td>\n",
              "      <td>15.095931</td>\n",
              "    </tr>\n",
              "    <tr>\n",
              "      <th>1</th>\n",
              "      <td>20.477077</td>\n",
              "      <td>5.933857</td>\n",
              "      <td>800.393350</td>\n",
              "      <td>47.038542</td>\n",
              "      <td>77.533957</td>\n",
              "      <td>30.495416</td>\n",
              "    </tr>\n",
              "    <tr>\n",
              "      <th>2</th>\n",
              "      <td>38.253211</td>\n",
              "      <td>6.401385</td>\n",
              "      <td>911.299383</td>\n",
              "      <td>51.612556</td>\n",
              "      <td>98.944691</td>\n",
              "      <td>47.332137</td>\n",
              "    </tr>\n",
              "    <tr>\n",
              "      <th>3</th>\n",
              "      <td>35.534459</td>\n",
              "      <td>6.913496</td>\n",
              "      <td>952.646500</td>\n",
              "      <td>48.410507</td>\n",
              "      <td>82.663605</td>\n",
              "      <td>34.253095</td>\n",
              "    </tr>\n",
              "    <tr>\n",
              "      <th>4</th>\n",
              "      <td>39.670834</td>\n",
              "      <td>6.343282</td>\n",
              "      <td>1056.357483</td>\n",
              "      <td>47.683113</td>\n",
              "      <td>91.553461</td>\n",
              "      <td>43.870343</td>\n",
              "    </tr>\n",
              "  </tbody>\n",
              "</table>\n",
              "</div>"
            ],
            "text/plain": [
              "        PM10       SO2           CO        NO2        NOX         NO\n",
              "0  21.417008  4.629833   605.988096  31.849611  46.945543  15.095931\n",
              "1  20.477077  5.933857   800.393350  47.038542  77.533957  30.495416\n",
              "2  38.253211  6.401385   911.299383  51.612556  98.944691  47.332137\n",
              "3  35.534459  6.913496   952.646500  48.410507  82.663605  34.253095\n",
              "4  39.670834  6.343282  1056.357483  47.683113  91.553461  43.870343"
            ]
          },
          "metadata": {
            "tags": []
          },
          "execution_count": 3
        }
      ]
    },
    {
      "cell_type": "code",
      "metadata": {
        "id": "wz12PmB8vGlw",
        "colab_type": "code",
        "colab": {
          "base_uri": "https://localhost:8080/",
          "height": 158
        },
        "outputId": "c3c3bc7d-225d-4d7b-d9b3-e2e8478e0535"
      },
      "source": [
        "data.dtypes"
      ],
      "execution_count": 4,
      "outputs": [
        {
          "output_type": "execute_result",
          "data": {
            "text/plain": [
              "Tarih     object\n",
              "PM10     float64\n",
              "SO2      float64\n",
              "CO       float64\n",
              "NO2      float64\n",
              "NOX      float64\n",
              "NO       float64\n",
              "dtype: object"
            ]
          },
          "metadata": {
            "tags": []
          },
          "execution_count": 4
        }
      ]
    },
    {
      "cell_type": "code",
      "metadata": {
        "id": "QGFEHP-rvLpN",
        "colab_type": "code",
        "colab": {
          "base_uri": "https://localhost:8080/",
          "height": 197
        },
        "outputId": "57c660a3-01f7-4253-df95-d4f5e693a22a"
      },
      "source": [
        "data_tarih = data.select_dtypes(include=['object'])\n",
        "data_tarih.head()"
      ],
      "execution_count": 5,
      "outputs": [
        {
          "output_type": "execute_result",
          "data": {
            "text/html": [
              "<div>\n",
              "<style scoped>\n",
              "    .dataframe tbody tr th:only-of-type {\n",
              "        vertical-align: middle;\n",
              "    }\n",
              "\n",
              "    .dataframe tbody tr th {\n",
              "        vertical-align: top;\n",
              "    }\n",
              "\n",
              "    .dataframe thead th {\n",
              "        text-align: right;\n",
              "    }\n",
              "</style>\n",
              "<table border=\"1\" class=\"dataframe\">\n",
              "  <thead>\n",
              "    <tr style=\"text-align: right;\">\n",
              "      <th></th>\n",
              "      <th>Tarih</th>\n",
              "    </tr>\n",
              "  </thead>\n",
              "  <tbody>\n",
              "    <tr>\n",
              "      <th>0</th>\n",
              "      <td>1/1/2020</td>\n",
              "    </tr>\n",
              "    <tr>\n",
              "      <th>1</th>\n",
              "      <td>1/2/2020</td>\n",
              "    </tr>\n",
              "    <tr>\n",
              "      <th>2</th>\n",
              "      <td>1/3/2020</td>\n",
              "    </tr>\n",
              "    <tr>\n",
              "      <th>3</th>\n",
              "      <td>1/4/2020</td>\n",
              "    </tr>\n",
              "    <tr>\n",
              "      <th>4</th>\n",
              "      <td>1/5/2020</td>\n",
              "    </tr>\n",
              "  </tbody>\n",
              "</table>\n",
              "</div>"
            ],
            "text/plain": [
              "      Tarih\n",
              "0  1/1/2020\n",
              "1  1/2/2020\n",
              "2  1/3/2020\n",
              "3  1/4/2020\n",
              "4  1/5/2020"
            ]
          },
          "metadata": {
            "tags": []
          },
          "execution_count": 5
        }
      ]
    },
    {
      "cell_type": "code",
      "metadata": {
        "id": "S_fW9-sDwBGN",
        "colab_type": "code",
        "colab": {
          "base_uri": "https://localhost:8080/",
          "height": 247
        },
        "outputId": "315f4215-55a8-49db-96a9-e6a938a82657"
      },
      "source": [
        "data_tarihsiz.describe().T"
      ],
      "execution_count": 6,
      "outputs": [
        {
          "output_type": "execute_result",
          "data": {
            "text/html": [
              "<div>\n",
              "<style scoped>\n",
              "    .dataframe tbody tr th:only-of-type {\n",
              "        vertical-align: middle;\n",
              "    }\n",
              "\n",
              "    .dataframe tbody tr th {\n",
              "        vertical-align: top;\n",
              "    }\n",
              "\n",
              "    .dataframe thead th {\n",
              "        text-align: right;\n",
              "    }\n",
              "</style>\n",
              "<table border=\"1\" class=\"dataframe\">\n",
              "  <thead>\n",
              "    <tr style=\"text-align: right;\">\n",
              "      <th></th>\n",
              "      <th>count</th>\n",
              "      <th>mean</th>\n",
              "      <th>std</th>\n",
              "      <th>min</th>\n",
              "      <th>25%</th>\n",
              "      <th>50%</th>\n",
              "      <th>75%</th>\n",
              "      <th>max</th>\n",
              "    </tr>\n",
              "  </thead>\n",
              "  <tbody>\n",
              "    <tr>\n",
              "      <th>PM10</th>\n",
              "      <td>136.0</td>\n",
              "      <td>44.432776</td>\n",
              "      <td>26.712811</td>\n",
              "      <td>9.958241</td>\n",
              "      <td>25.114722</td>\n",
              "      <td>37.185330</td>\n",
              "      <td>55.674562</td>\n",
              "      <td>139.652997</td>\n",
              "    </tr>\n",
              "    <tr>\n",
              "      <th>SO2</th>\n",
              "      <td>136.0</td>\n",
              "      <td>5.738041</td>\n",
              "      <td>3.605287</td>\n",
              "      <td>1.113484</td>\n",
              "      <td>2.900947</td>\n",
              "      <td>5.199122</td>\n",
              "      <td>7.449457</td>\n",
              "      <td>18.423953</td>\n",
              "    </tr>\n",
              "    <tr>\n",
              "      <th>CO</th>\n",
              "      <td>136.0</td>\n",
              "      <td>875.498821</td>\n",
              "      <td>380.540060</td>\n",
              "      <td>407.386700</td>\n",
              "      <td>572.044346</td>\n",
              "      <td>784.988175</td>\n",
              "      <td>1088.569854</td>\n",
              "      <td>2116.150033</td>\n",
              "    </tr>\n",
              "    <tr>\n",
              "      <th>NO2</th>\n",
              "      <td>109.0</td>\n",
              "      <td>51.433578</td>\n",
              "      <td>20.822738</td>\n",
              "      <td>14.722220</td>\n",
              "      <td>34.523171</td>\n",
              "      <td>47.038542</td>\n",
              "      <td>64.147297</td>\n",
              "      <td>112.399083</td>\n",
              "    </tr>\n",
              "    <tr>\n",
              "      <th>NOX</th>\n",
              "      <td>109.0</td>\n",
              "      <td>97.882481</td>\n",
              "      <td>69.172506</td>\n",
              "      <td>15.922980</td>\n",
              "      <td>42.480553</td>\n",
              "      <td>74.769960</td>\n",
              "      <td>130.512952</td>\n",
              "      <td>333.211312</td>\n",
              "    </tr>\n",
              "    <tr>\n",
              "      <th>NO</th>\n",
              "      <td>109.0</td>\n",
              "      <td>46.460232</td>\n",
              "      <td>49.788061</td>\n",
              "      <td>1.200764</td>\n",
              "      <td>8.083986</td>\n",
              "      <td>25.419030</td>\n",
              "      <td>65.606022</td>\n",
              "      <td>232.664927</td>\n",
              "    </tr>\n",
              "  </tbody>\n",
              "</table>\n",
              "</div>"
            ],
            "text/plain": [
              "      count        mean         std  ...         50%          75%          max\n",
              "PM10  136.0   44.432776   26.712811  ...   37.185330    55.674562   139.652997\n",
              "SO2   136.0    5.738041    3.605287  ...    5.199122     7.449457    18.423953\n",
              "CO    136.0  875.498821  380.540060  ...  784.988175  1088.569854  2116.150033\n",
              "NO2   109.0   51.433578   20.822738  ...   47.038542    64.147297   112.399083\n",
              "NOX   109.0   97.882481   69.172506  ...   74.769960   130.512952   333.211312\n",
              "NO    109.0   46.460232   49.788061  ...   25.419030    65.606022   232.664927\n",
              "\n",
              "[6 rows x 8 columns]"
            ]
          },
          "metadata": {
            "tags": []
          },
          "execution_count": 6
        }
      ]
    },
    {
      "cell_type": "code",
      "metadata": {
        "id": "MB45C2JiwWJX",
        "colab_type": "code",
        "colab": {
          "base_uri": "https://localhost:8080/",
          "height": 425
        },
        "outputId": "1326fab5-e5e8-471c-fb3b-2633a472d321"
      },
      "source": [
        "from fancyimpute import KNN #KNN ile boş veri doldurma\n",
        "var_tarih = list(data_tarih)\n",
        "var_maddeler = list(data_tarihsiz)\n",
        "knn_imp = KNN(k=7).fit_transform(data_tarihsiz);#knn ile boş değerleri doldurdum\n",
        "knn_imp[0:10]"
      ],
      "execution_count": 7,
      "outputs": [
        {
          "output_type": "stream",
          "text": [
            "Using TensorFlow backend.\n"
          ],
          "name": "stderr"
        },
        {
          "output_type": "stream",
          "text": [
            "Imputing row 1/136 with 0 missing, elapsed time: 0.006\n",
            "Imputing row 101/136 with 0 missing, elapsed time: 0.006\n"
          ],
          "name": "stdout"
        },
        {
          "output_type": "execute_result",
          "data": {
            "text/plain": [
              "array([[  21.41700792,    4.62983255,  605.9880958 ,   31.84961117,\n",
              "          46.94554261,   15.095931  ],\n",
              "       [  20.47707658,    5.9338566 ,  800.39335   ,   47.03854167,\n",
              "          77.53395707,   30.49541613],\n",
              "       [  38.25321083,    6.40138546,  911.2993833 ,   51.61255625,\n",
              "          98.9446911 ,   47.33213654],\n",
              "       [  35.53445888,    6.91349563,  952.6465    ,   48.41050708,\n",
              "          82.66360476,   34.25309542],\n",
              "       [  39.67083375,    6.34328225, 1056.357483  ,   47.68311292,\n",
              "          91.55346077,   43.87034325],\n",
              "       [  75.23322875,   11.17238763, 1531.367717  ,   64.0176625 ,\n",
              "         171.7715995 ,  107.7539394 ],\n",
              "       [ 124.2979071 ,   18.19544338, 2018.308662  ,   84.57318875,\n",
              "         264.8547582 ,  180.2815675 ],\n",
              "       [  66.62213125,    8.82786558, 1155.928021  ,   59.63570542,\n",
              "         114.5462482 ,   54.91054571],\n",
              "       [  22.31774133,    5.75514239,  609.9138217 ,   29.85163517,\n",
              "          42.4245394 ,   12.57290309],\n",
              "       [  28.52259833,    7.07750987,  812.8459375 ,   41.13749875,\n",
              "          64.23198349,   23.09448492]])"
            ]
          },
          "metadata": {
            "tags": []
          },
          "execution_count": 7
        }
      ]
    },
    {
      "cell_type": "code",
      "metadata": {
        "id": "karo5IZYw0zp",
        "colab_type": "code",
        "colab": {
          "base_uri": "https://localhost:8080/",
          "height": 197
        },
        "outputId": "44c5b74f-cf58-4f26-c336-aacc0b2eca38"
      },
      "source": [
        "df = pd.DataFrame(knn_imp)\n",
        "df.head()"
      ],
      "execution_count": 8,
      "outputs": [
        {
          "output_type": "execute_result",
          "data": {
            "text/html": [
              "<div>\n",
              "<style scoped>\n",
              "    .dataframe tbody tr th:only-of-type {\n",
              "        vertical-align: middle;\n",
              "    }\n",
              "\n",
              "    .dataframe tbody tr th {\n",
              "        vertical-align: top;\n",
              "    }\n",
              "\n",
              "    .dataframe thead th {\n",
              "        text-align: right;\n",
              "    }\n",
              "</style>\n",
              "<table border=\"1\" class=\"dataframe\">\n",
              "  <thead>\n",
              "    <tr style=\"text-align: right;\">\n",
              "      <th></th>\n",
              "      <th>0</th>\n",
              "      <th>1</th>\n",
              "      <th>2</th>\n",
              "      <th>3</th>\n",
              "      <th>4</th>\n",
              "      <th>5</th>\n",
              "    </tr>\n",
              "  </thead>\n",
              "  <tbody>\n",
              "    <tr>\n",
              "      <th>0</th>\n",
              "      <td>21.417008</td>\n",
              "      <td>4.629833</td>\n",
              "      <td>605.988096</td>\n",
              "      <td>31.849611</td>\n",
              "      <td>46.945543</td>\n",
              "      <td>15.095931</td>\n",
              "    </tr>\n",
              "    <tr>\n",
              "      <th>1</th>\n",
              "      <td>20.477077</td>\n",
              "      <td>5.933857</td>\n",
              "      <td>800.393350</td>\n",
              "      <td>47.038542</td>\n",
              "      <td>77.533957</td>\n",
              "      <td>30.495416</td>\n",
              "    </tr>\n",
              "    <tr>\n",
              "      <th>2</th>\n",
              "      <td>38.253211</td>\n",
              "      <td>6.401385</td>\n",
              "      <td>911.299383</td>\n",
              "      <td>51.612556</td>\n",
              "      <td>98.944691</td>\n",
              "      <td>47.332137</td>\n",
              "    </tr>\n",
              "    <tr>\n",
              "      <th>3</th>\n",
              "      <td>35.534459</td>\n",
              "      <td>6.913496</td>\n",
              "      <td>952.646500</td>\n",
              "      <td>48.410507</td>\n",
              "      <td>82.663605</td>\n",
              "      <td>34.253095</td>\n",
              "    </tr>\n",
              "    <tr>\n",
              "      <th>4</th>\n",
              "      <td>39.670834</td>\n",
              "      <td>6.343282</td>\n",
              "      <td>1056.357483</td>\n",
              "      <td>47.683113</td>\n",
              "      <td>91.553461</td>\n",
              "      <td>43.870343</td>\n",
              "    </tr>\n",
              "  </tbody>\n",
              "</table>\n",
              "</div>"
            ],
            "text/plain": [
              "           0         1            2          3          4          5\n",
              "0  21.417008  4.629833   605.988096  31.849611  46.945543  15.095931\n",
              "1  20.477077  5.933857   800.393350  47.038542  77.533957  30.495416\n",
              "2  38.253211  6.401385   911.299383  51.612556  98.944691  47.332137\n",
              "3  35.534459  6.913496   952.646500  48.410507  82.663605  34.253095\n",
              "4  39.670834  6.343282  1056.357483  47.683113  91.553461  43.870343"
            ]
          },
          "metadata": {
            "tags": []
          },
          "execution_count": 8
        }
      ]
    },
    {
      "cell_type": "code",
      "metadata": {
        "id": "qIvHVU6Ww89J",
        "colab_type": "code",
        "colab": {
          "base_uri": "https://localhost:8080/",
          "height": 197
        },
        "outputId": "b9976073-c7b5-4d92-81cd-9fec644c4c83"
      },
      "source": [
        "df.columns = var_maddeler\n",
        "df = pd.concat([data_tarih, df], axis=1, sort=False)\n",
        "df.head()"
      ],
      "execution_count": 9,
      "outputs": [
        {
          "output_type": "execute_result",
          "data": {
            "text/html": [
              "<div>\n",
              "<style scoped>\n",
              "    .dataframe tbody tr th:only-of-type {\n",
              "        vertical-align: middle;\n",
              "    }\n",
              "\n",
              "    .dataframe tbody tr th {\n",
              "        vertical-align: top;\n",
              "    }\n",
              "\n",
              "    .dataframe thead th {\n",
              "        text-align: right;\n",
              "    }\n",
              "</style>\n",
              "<table border=\"1\" class=\"dataframe\">\n",
              "  <thead>\n",
              "    <tr style=\"text-align: right;\">\n",
              "      <th></th>\n",
              "      <th>Tarih</th>\n",
              "      <th>PM10</th>\n",
              "      <th>SO2</th>\n",
              "      <th>CO</th>\n",
              "      <th>NO2</th>\n",
              "      <th>NOX</th>\n",
              "      <th>NO</th>\n",
              "    </tr>\n",
              "  </thead>\n",
              "  <tbody>\n",
              "    <tr>\n",
              "      <th>0</th>\n",
              "      <td>1/1/2020</td>\n",
              "      <td>21.417008</td>\n",
              "      <td>4.629833</td>\n",
              "      <td>605.988096</td>\n",
              "      <td>31.849611</td>\n",
              "      <td>46.945543</td>\n",
              "      <td>15.095931</td>\n",
              "    </tr>\n",
              "    <tr>\n",
              "      <th>1</th>\n",
              "      <td>1/2/2020</td>\n",
              "      <td>20.477077</td>\n",
              "      <td>5.933857</td>\n",
              "      <td>800.393350</td>\n",
              "      <td>47.038542</td>\n",
              "      <td>77.533957</td>\n",
              "      <td>30.495416</td>\n",
              "    </tr>\n",
              "    <tr>\n",
              "      <th>2</th>\n",
              "      <td>1/3/2020</td>\n",
              "      <td>38.253211</td>\n",
              "      <td>6.401385</td>\n",
              "      <td>911.299383</td>\n",
              "      <td>51.612556</td>\n",
              "      <td>98.944691</td>\n",
              "      <td>47.332137</td>\n",
              "    </tr>\n",
              "    <tr>\n",
              "      <th>3</th>\n",
              "      <td>1/4/2020</td>\n",
              "      <td>35.534459</td>\n",
              "      <td>6.913496</td>\n",
              "      <td>952.646500</td>\n",
              "      <td>48.410507</td>\n",
              "      <td>82.663605</td>\n",
              "      <td>34.253095</td>\n",
              "    </tr>\n",
              "    <tr>\n",
              "      <th>4</th>\n",
              "      <td>1/5/2020</td>\n",
              "      <td>39.670834</td>\n",
              "      <td>6.343282</td>\n",
              "      <td>1056.357483</td>\n",
              "      <td>47.683113</td>\n",
              "      <td>91.553461</td>\n",
              "      <td>43.870343</td>\n",
              "    </tr>\n",
              "  </tbody>\n",
              "</table>\n",
              "</div>"
            ],
            "text/plain": [
              "      Tarih       PM10       SO2           CO        NO2        NOX         NO\n",
              "0  1/1/2020  21.417008  4.629833   605.988096  31.849611  46.945543  15.095931\n",
              "1  1/2/2020  20.477077  5.933857   800.393350  47.038542  77.533957  30.495416\n",
              "2  1/3/2020  38.253211  6.401385   911.299383  51.612556  98.944691  47.332137\n",
              "3  1/4/2020  35.534459  6.913496   952.646500  48.410507  82.663605  34.253095\n",
              "4  1/5/2020  39.670834  6.343282  1056.357483  47.683113  91.553461  43.870343"
            ]
          },
          "metadata": {
            "tags": []
          },
          "execution_count": 9
        }
      ]
    },
    {
      "cell_type": "code",
      "metadata": {
        "id": "wy57yL0_xRSA",
        "colab_type": "code",
        "colab": {
          "base_uri": "https://localhost:8080/",
          "height": 158
        },
        "outputId": "d7e165dd-2937-4811-f563-c132f40417cc"
      },
      "source": [
        "df.isnull().sum()"
      ],
      "execution_count": 10,
      "outputs": [
        {
          "output_type": "execute_result",
          "data": {
            "text/plain": [
              "Tarih    0\n",
              "PM10     0\n",
              "SO2      0\n",
              "CO       0\n",
              "NO2      0\n",
              "NOX      0\n",
              "NO       0\n",
              "dtype: int64"
            ]
          },
          "metadata": {
            "tags": []
          },
          "execution_count": 10
        }
      ]
    },
    {
      "cell_type": "code",
      "metadata": {
        "colab_type": "code",
        "id": "mlnPbUXIiMRa",
        "outputId": "d0aee849-cd00-4b20-8557-8a0a50be49fa",
        "colab": {
          "base_uri": "https://localhost:8080/",
          "height": 197
        }
      },
      "source": [
        "## So2 indeksi (si) hesaplama fonksiyonu\n",
        "#Hava kalitesi indeksini hesaplamak için havadaki her bir maddenin indeksini hesapladım\n",
        "#Aralıkları internetten aldım\n",
        "def calculate_si(so2):\n",
        "    si=0\n",
        "    if (so2<=40):\n",
        "     si= so2*(50/40)\n",
        "    if (so2>40 and so2<=80):\n",
        "     si= 50+(so2-40)*(50/40)\n",
        "    if (so2>80 and so2<=380):\n",
        "     si= 100+(so2-80)*(100/300)\n",
        "    if (so2>380 and so2<=800):\n",
        "     si= 200+(so2-380)*(100/800)\n",
        "    if (so2>800 and so2<=1600):\n",
        "     si= 300+(so2-800)*(100/800)\n",
        "    if (so2>1600):\n",
        "     si= 400+(so2-1600)*(100/800)\n",
        "    return si\n",
        "data['si']=data['SO2'].apply(calculate_si)\n",
        "df= data[['SO2','si']]\n",
        "df.head()"
      ],
      "execution_count": 11,
      "outputs": [
        {
          "output_type": "execute_result",
          "data": {
            "text/html": [
              "<div>\n",
              "<style scoped>\n",
              "    .dataframe tbody tr th:only-of-type {\n",
              "        vertical-align: middle;\n",
              "    }\n",
              "\n",
              "    .dataframe tbody tr th {\n",
              "        vertical-align: top;\n",
              "    }\n",
              "\n",
              "    .dataframe thead th {\n",
              "        text-align: right;\n",
              "    }\n",
              "</style>\n",
              "<table border=\"1\" class=\"dataframe\">\n",
              "  <thead>\n",
              "    <tr style=\"text-align: right;\">\n",
              "      <th></th>\n",
              "      <th>SO2</th>\n",
              "      <th>si</th>\n",
              "    </tr>\n",
              "  </thead>\n",
              "  <tbody>\n",
              "    <tr>\n",
              "      <th>0</th>\n",
              "      <td>4.629833</td>\n",
              "      <td>5.787291</td>\n",
              "    </tr>\n",
              "    <tr>\n",
              "      <th>1</th>\n",
              "      <td>5.933857</td>\n",
              "      <td>7.417321</td>\n",
              "    </tr>\n",
              "    <tr>\n",
              "      <th>2</th>\n",
              "      <td>6.401385</td>\n",
              "      <td>8.001732</td>\n",
              "    </tr>\n",
              "    <tr>\n",
              "      <th>3</th>\n",
              "      <td>6.913496</td>\n",
              "      <td>8.641870</td>\n",
              "    </tr>\n",
              "    <tr>\n",
              "      <th>4</th>\n",
              "      <td>6.343282</td>\n",
              "      <td>7.929103</td>\n",
              "    </tr>\n",
              "  </tbody>\n",
              "</table>\n",
              "</div>"
            ],
            "text/plain": [
              "        SO2        si\n",
              "0  4.629833  5.787291\n",
              "1  5.933857  7.417321\n",
              "2  6.401385  8.001732\n",
              "3  6.913496  8.641870\n",
              "4  6.343282  7.929103"
            ]
          },
          "metadata": {
            "tags": []
          },
          "execution_count": 11
        }
      ]
    },
    {
      "cell_type": "code",
      "metadata": {
        "colab_type": "code",
        "id": "6aE56SvIiMQB",
        "outputId": "63076301-c4d5-404a-8bc3-6859becf4679",
        "colab": {
          "base_uri": "https://localhost:8080/",
          "height": 197
        }
      },
      "source": [
        "#No2 indeksi (ni) hesaplama fonksiyonu\n",
        "def calculate_ni(no2):\n",
        "    ni=0\n",
        "    if(no2<=40):\n",
        "     ni= no2*50/40\n",
        "    elif(no2>40 and no2<=80):\n",
        "     ni= 50+(no2-14)*(50/40)\n",
        "    elif(no2>80 and no2<=180):\n",
        "     ni= 100+(no2-80)*(100/100)\n",
        "    elif(no2>180 and no2<=280):\n",
        "     ni= 200+(no2-180)*(100/100)\n",
        "    elif(no2>280 and no2<=400):\n",
        "     ni= 300+(no2-280)*(100/120)\n",
        "    else:\n",
        "     ni= 400+(no2-400)*(100/120)\n",
        "    return ni\n",
        "data['ni']=data['NO2'].apply(calculate_ni)\n",
        "df= data[['NO2','ni']]\n",
        "df.head()"
      ],
      "execution_count": 12,
      "outputs": [
        {
          "output_type": "execute_result",
          "data": {
            "text/html": [
              "<div>\n",
              "<style scoped>\n",
              "    .dataframe tbody tr th:only-of-type {\n",
              "        vertical-align: middle;\n",
              "    }\n",
              "\n",
              "    .dataframe tbody tr th {\n",
              "        vertical-align: top;\n",
              "    }\n",
              "\n",
              "    .dataframe thead th {\n",
              "        text-align: right;\n",
              "    }\n",
              "</style>\n",
              "<table border=\"1\" class=\"dataframe\">\n",
              "  <thead>\n",
              "    <tr style=\"text-align: right;\">\n",
              "      <th></th>\n",
              "      <th>NO2</th>\n",
              "      <th>ni</th>\n",
              "    </tr>\n",
              "  </thead>\n",
              "  <tbody>\n",
              "    <tr>\n",
              "      <th>0</th>\n",
              "      <td>31.849611</td>\n",
              "      <td>39.812014</td>\n",
              "    </tr>\n",
              "    <tr>\n",
              "      <th>1</th>\n",
              "      <td>47.038542</td>\n",
              "      <td>91.298177</td>\n",
              "    </tr>\n",
              "    <tr>\n",
              "      <th>2</th>\n",
              "      <td>51.612556</td>\n",
              "      <td>97.015695</td>\n",
              "    </tr>\n",
              "    <tr>\n",
              "      <th>3</th>\n",
              "      <td>48.410507</td>\n",
              "      <td>93.013134</td>\n",
              "    </tr>\n",
              "    <tr>\n",
              "      <th>4</th>\n",
              "      <td>47.683113</td>\n",
              "      <td>92.103891</td>\n",
              "    </tr>\n",
              "  </tbody>\n",
              "</table>\n",
              "</div>"
            ],
            "text/plain": [
              "         NO2         ni\n",
              "0  31.849611  39.812014\n",
              "1  47.038542  91.298177\n",
              "2  51.612556  97.015695\n",
              "3  48.410507  93.013134\n",
              "4  47.683113  92.103891"
            ]
          },
          "metadata": {
            "tags": []
          },
          "execution_count": 12
        }
      ]
    },
    {
      "cell_type": "code",
      "metadata": {
        "colab_type": "code",
        "id": "UvZ3Fwo4iMM7",
        "outputId": "528cc527-ce5f-44e6-f806-15fca513e01a",
        "colab": {
          "base_uri": "https://localhost:8080/",
          "height": 197
        }
      },
      "source": [
        "#PM10 indeksi (rpi) hesaplama fonksiyonu\n",
        "def calculate_(rspm):\n",
        "    rpi=0\n",
        "    if(rpi<=30):\n",
        "     rpi=rpi*50/30\n",
        "    elif(rpi>30 and rpi<=60):\n",
        "     rpi=50+(rpi-30)*50/30\n",
        "    elif(rpi>60 and rpi<=90):\n",
        "     rpi=100+(rpi-60)*100/30\n",
        "    elif(rpi>90 and rpi<=120):\n",
        "     rpi=200+(rpi-90)*100/30\n",
        "    elif(rpi>120 and rpi<=250):\n",
        "     rpi=300+(rpi-120)*(100/130)\n",
        "    else:\n",
        "     rpi=400+(rpi-250)*(100/130)\n",
        "    return rpi\n",
        "data['rpi']=data['PM10'].apply(calculate_si)\n",
        "df= data[['PM10','rpi']]\n",
        "df.head()\n"
      ],
      "execution_count": 13,
      "outputs": [
        {
          "output_type": "execute_result",
          "data": {
            "text/html": [
              "<div>\n",
              "<style scoped>\n",
              "    .dataframe tbody tr th:only-of-type {\n",
              "        vertical-align: middle;\n",
              "    }\n",
              "\n",
              "    .dataframe tbody tr th {\n",
              "        vertical-align: top;\n",
              "    }\n",
              "\n",
              "    .dataframe thead th {\n",
              "        text-align: right;\n",
              "    }\n",
              "</style>\n",
              "<table border=\"1\" class=\"dataframe\">\n",
              "  <thead>\n",
              "    <tr style=\"text-align: right;\">\n",
              "      <th></th>\n",
              "      <th>PM10</th>\n",
              "      <th>rpi</th>\n",
              "    </tr>\n",
              "  </thead>\n",
              "  <tbody>\n",
              "    <tr>\n",
              "      <th>0</th>\n",
              "      <td>21.417008</td>\n",
              "      <td>26.771260</td>\n",
              "    </tr>\n",
              "    <tr>\n",
              "      <th>1</th>\n",
              "      <td>20.477077</td>\n",
              "      <td>25.596346</td>\n",
              "    </tr>\n",
              "    <tr>\n",
              "      <th>2</th>\n",
              "      <td>38.253211</td>\n",
              "      <td>47.816514</td>\n",
              "    </tr>\n",
              "    <tr>\n",
              "      <th>3</th>\n",
              "      <td>35.534459</td>\n",
              "      <td>44.418074</td>\n",
              "    </tr>\n",
              "    <tr>\n",
              "      <th>4</th>\n",
              "      <td>39.670834</td>\n",
              "      <td>49.588542</td>\n",
              "    </tr>\n",
              "  </tbody>\n",
              "</table>\n",
              "</div>"
            ],
            "text/plain": [
              "        PM10        rpi\n",
              "0  21.417008  26.771260\n",
              "1  20.477077  25.596346\n",
              "2  38.253211  47.816514\n",
              "3  35.534459  44.418074\n",
              "4  39.670834  49.588542"
            ]
          },
          "metadata": {
            "tags": []
          },
          "execution_count": 13
        }
      ]
    },
    {
      "cell_type": "code",
      "metadata": {
        "colab_type": "code",
        "id": "nQjENknuiML4",
        "outputId": "70e20c5d-0804-42c9-8838-3d6bb4572e5a",
        "colab": {
          "base_uri": "https://localhost:8080/",
          "height": 197
        }
      },
      "source": [
        "#NO indeksi (spi) hesaplama fonksiyonu\n",
        "def calculate_spi(spm):\n",
        "    spi=0\n",
        "    if(spm<=50):\n",
        "     spi=spm\n",
        "    if(spm<50 and spm<=100):\n",
        "     spi=spm\n",
        "    elif(spm>100 and spm<=250):\n",
        "     spi= 100+(spm-100)*(100/150)\n",
        "    elif(spm>250 and spm<=350):\n",
        "     spi=200+(spm-250)\n",
        "    elif(spm>350 and spm<=450):\n",
        "     spi=300+(spm-350)*(100/80)\n",
        "    else:\n",
        "     spi=400+(spm-430)*(100/80)\n",
        "    return spi\n",
        "data['spi']=data['NO'].apply(calculate_spi)\n",
        "df= data[['NO','spi']]\n",
        "df.head()"
      ],
      "execution_count": 14,
      "outputs": [
        {
          "output_type": "execute_result",
          "data": {
            "text/html": [
              "<div>\n",
              "<style scoped>\n",
              "    .dataframe tbody tr th:only-of-type {\n",
              "        vertical-align: middle;\n",
              "    }\n",
              "\n",
              "    .dataframe tbody tr th {\n",
              "        vertical-align: top;\n",
              "    }\n",
              "\n",
              "    .dataframe thead th {\n",
              "        text-align: right;\n",
              "    }\n",
              "</style>\n",
              "<table border=\"1\" class=\"dataframe\">\n",
              "  <thead>\n",
              "    <tr style=\"text-align: right;\">\n",
              "      <th></th>\n",
              "      <th>NO</th>\n",
              "      <th>spi</th>\n",
              "    </tr>\n",
              "  </thead>\n",
              "  <tbody>\n",
              "    <tr>\n",
              "      <th>0</th>\n",
              "      <td>15.095931</td>\n",
              "      <td>15.095931</td>\n",
              "    </tr>\n",
              "    <tr>\n",
              "      <th>1</th>\n",
              "      <td>30.495416</td>\n",
              "      <td>30.495416</td>\n",
              "    </tr>\n",
              "    <tr>\n",
              "      <th>2</th>\n",
              "      <td>47.332137</td>\n",
              "      <td>47.332137</td>\n",
              "    </tr>\n",
              "    <tr>\n",
              "      <th>3</th>\n",
              "      <td>34.253095</td>\n",
              "      <td>34.253095</td>\n",
              "    </tr>\n",
              "    <tr>\n",
              "      <th>4</th>\n",
              "      <td>43.870343</td>\n",
              "      <td>43.870343</td>\n",
              "    </tr>\n",
              "  </tbody>\n",
              "</table>\n",
              "</div>"
            ],
            "text/plain": [
              "          NO        spi\n",
              "0  15.095931  15.095931\n",
              "1  30.495416  30.495416\n",
              "2  47.332137  47.332137\n",
              "3  34.253095  34.253095\n",
              "4  43.870343  43.870343"
            ]
          },
          "metadata": {
            "tags": []
          },
          "execution_count": 14
        }
      ]
    },
    {
      "cell_type": "code",
      "metadata": {
        "colab_type": "code",
        "id": "nzoFlBGoiMKY",
        "colab": {
          "base_uri": "https://localhost:8080/",
          "height": 141
        },
        "outputId": "1ab2d031-5b16-476f-c8d6-a3e902b3f093"
      },
      "source": [
        "#Her veri değerinin hava kalitesi indeksini (AQI) hesaplama fonksiyonu\n",
        "def calculate_aqi(si,ni,spi,rpi):\n",
        "    aqi=0\n",
        "    if(si>ni and si>spi and si>rpi):\n",
        "     aqi=si\n",
        "    if(spi>si and spi>ni and spi>rpi):\n",
        "     aqi=spi\n",
        "    if(ni>si and ni>spi and ni>rpi):\n",
        "     aqi=ni\n",
        "    if(rpi>si and rpi>ni and rpi>spi):\n",
        "     aqi=rpi\n",
        "    return aqi\n",
        "data['AQI']=data.apply(lambda x:calculate_aqi(x['si'],x['ni'],x['spi'],x['rpi']),axis=1)\n",
        "\n",
        "data = data[['Tarih', 'si', 'ni', 'spi', 'rpi', 'AQI']]\n",
        "data.dtypes\n",
        " "
      ],
      "execution_count": 15,
      "outputs": [
        {
          "output_type": "execute_result",
          "data": {
            "text/plain": [
              "Tarih     object\n",
              "si       float64\n",
              "ni       float64\n",
              "spi      float64\n",
              "rpi      float64\n",
              "AQI      float64\n",
              "dtype: object"
            ]
          },
          "metadata": {
            "tags": []
          },
          "execution_count": 15
        }
      ]
    },
    {
      "cell_type": "code",
      "metadata": {
        "id": "Knrv9jbzyN4F",
        "colab_type": "code",
        "colab": {
          "base_uri": "https://localhost:8080/",
          "height": 197
        },
        "outputId": "d06e7e66-b2b0-4156-b0db-91520d25de92"
      },
      "source": [
        "data_tarihsiz = data.select_dtypes(include=['float64'])\n",
        "data_tarihsiz.head()"
      ],
      "execution_count": 16,
      "outputs": [
        {
          "output_type": "execute_result",
          "data": {
            "text/html": [
              "<div>\n",
              "<style scoped>\n",
              "    .dataframe tbody tr th:only-of-type {\n",
              "        vertical-align: middle;\n",
              "    }\n",
              "\n",
              "    .dataframe tbody tr th {\n",
              "        vertical-align: top;\n",
              "    }\n",
              "\n",
              "    .dataframe thead th {\n",
              "        text-align: right;\n",
              "    }\n",
              "</style>\n",
              "<table border=\"1\" class=\"dataframe\">\n",
              "  <thead>\n",
              "    <tr style=\"text-align: right;\">\n",
              "      <th></th>\n",
              "      <th>si</th>\n",
              "      <th>ni</th>\n",
              "      <th>spi</th>\n",
              "      <th>rpi</th>\n",
              "      <th>AQI</th>\n",
              "    </tr>\n",
              "  </thead>\n",
              "  <tbody>\n",
              "    <tr>\n",
              "      <th>0</th>\n",
              "      <td>5.787291</td>\n",
              "      <td>39.812014</td>\n",
              "      <td>15.095931</td>\n",
              "      <td>26.771260</td>\n",
              "      <td>39.812014</td>\n",
              "    </tr>\n",
              "    <tr>\n",
              "      <th>1</th>\n",
              "      <td>7.417321</td>\n",
              "      <td>91.298177</td>\n",
              "      <td>30.495416</td>\n",
              "      <td>25.596346</td>\n",
              "      <td>91.298177</td>\n",
              "    </tr>\n",
              "    <tr>\n",
              "      <th>2</th>\n",
              "      <td>8.001732</td>\n",
              "      <td>97.015695</td>\n",
              "      <td>47.332137</td>\n",
              "      <td>47.816514</td>\n",
              "      <td>97.015695</td>\n",
              "    </tr>\n",
              "    <tr>\n",
              "      <th>3</th>\n",
              "      <td>8.641870</td>\n",
              "      <td>93.013134</td>\n",
              "      <td>34.253095</td>\n",
              "      <td>44.418074</td>\n",
              "      <td>93.013134</td>\n",
              "    </tr>\n",
              "    <tr>\n",
              "      <th>4</th>\n",
              "      <td>7.929103</td>\n",
              "      <td>92.103891</td>\n",
              "      <td>43.870343</td>\n",
              "      <td>49.588542</td>\n",
              "      <td>92.103891</td>\n",
              "    </tr>\n",
              "  </tbody>\n",
              "</table>\n",
              "</div>"
            ],
            "text/plain": [
              "         si         ni        spi        rpi        AQI\n",
              "0  5.787291  39.812014  15.095931  26.771260  39.812014\n",
              "1  7.417321  91.298177  30.495416  25.596346  91.298177\n",
              "2  8.001732  97.015695  47.332137  47.816514  97.015695\n",
              "3  8.641870  93.013134  34.253095  44.418074  93.013134\n",
              "4  7.929103  92.103891  43.870343  49.588542  92.103891"
            ]
          },
          "metadata": {
            "tags": []
          },
          "execution_count": 16
        }
      ]
    },
    {
      "cell_type": "code",
      "metadata": {
        "id": "OlhdKYx4zpFB",
        "colab_type": "code",
        "colab": {
          "base_uri": "https://localhost:8080/",
          "height": 217
        },
        "outputId": "6781b980-9908-46c9-a3a3-1824b85b111b"
      },
      "source": [
        "data_tarihsiz.describe().T"
      ],
      "execution_count": 17,
      "outputs": [
        {
          "output_type": "execute_result",
          "data": {
            "text/html": [
              "<div>\n",
              "<style scoped>\n",
              "    .dataframe tbody tr th:only-of-type {\n",
              "        vertical-align: middle;\n",
              "    }\n",
              "\n",
              "    .dataframe tbody tr th {\n",
              "        vertical-align: top;\n",
              "    }\n",
              "\n",
              "    .dataframe thead th {\n",
              "        text-align: right;\n",
              "    }\n",
              "</style>\n",
              "<table border=\"1\" class=\"dataframe\">\n",
              "  <thead>\n",
              "    <tr style=\"text-align: right;\">\n",
              "      <th></th>\n",
              "      <th>count</th>\n",
              "      <th>mean</th>\n",
              "      <th>std</th>\n",
              "      <th>min</th>\n",
              "      <th>25%</th>\n",
              "      <th>50%</th>\n",
              "      <th>75%</th>\n",
              "      <th>max</th>\n",
              "    </tr>\n",
              "  </thead>\n",
              "  <tbody>\n",
              "    <tr>\n",
              "      <th>si</th>\n",
              "      <td>136.0</td>\n",
              "      <td>7.172551</td>\n",
              "      <td>4.506609</td>\n",
              "      <td>1.391855</td>\n",
              "      <td>3.626184</td>\n",
              "      <td>6.498902</td>\n",
              "      <td>9.311821</td>\n",
              "      <td>23.029942</td>\n",
              "    </tr>\n",
              "    <tr>\n",
              "      <th>ni</th>\n",
              "      <td>109.0</td>\n",
              "      <td>82.112681</td>\n",
              "      <td>33.107680</td>\n",
              "      <td>18.402775</td>\n",
              "      <td>43.153964</td>\n",
              "      <td>91.298177</td>\n",
              "      <td>108.963090</td>\n",
              "      <td>132.399083</td>\n",
              "    </tr>\n",
              "    <tr>\n",
              "      <th>spi</th>\n",
              "      <td>109.0</td>\n",
              "      <td>22.317787</td>\n",
              "      <td>54.688023</td>\n",
              "      <td>-74.104776</td>\n",
              "      <td>3.576287</td>\n",
              "      <td>11.154170</td>\n",
              "      <td>33.369160</td>\n",
              "      <td>188.443284</td>\n",
              "    </tr>\n",
              "    <tr>\n",
              "      <th>rpi</th>\n",
              "      <td>136.0</td>\n",
              "      <td>53.057102</td>\n",
              "      <td>26.976914</td>\n",
              "      <td>12.447801</td>\n",
              "      <td>31.393403</td>\n",
              "      <td>46.481663</td>\n",
              "      <td>69.593203</td>\n",
              "      <td>119.884332</td>\n",
              "    </tr>\n",
              "    <tr>\n",
              "      <th>AQI</th>\n",
              "      <td>136.0</td>\n",
              "      <td>68.568407</td>\n",
              "      <td>47.181461</td>\n",
              "      <td>0.000000</td>\n",
              "      <td>34.634519</td>\n",
              "      <td>84.362302</td>\n",
              "      <td>107.956724</td>\n",
              "      <td>188.443284</td>\n",
              "    </tr>\n",
              "  </tbody>\n",
              "</table>\n",
              "</div>"
            ],
            "text/plain": [
              "     count       mean        std  ...        50%         75%         max\n",
              "si   136.0   7.172551   4.506609  ...   6.498902    9.311821   23.029942\n",
              "ni   109.0  82.112681  33.107680  ...  91.298177  108.963090  132.399083\n",
              "spi  109.0  22.317787  54.688023  ...  11.154170   33.369160  188.443284\n",
              "rpi  136.0  53.057102  26.976914  ...  46.481663   69.593203  119.884332\n",
              "AQI  136.0  68.568407  47.181461  ...  84.362302  107.956724  188.443284\n",
              "\n",
              "[5 rows x 8 columns]"
            ]
          },
          "metadata": {
            "tags": []
          },
          "execution_count": 17
        }
      ]
    },
    {
      "cell_type": "code",
      "metadata": {
        "id": "3XvUfCp4yCMj",
        "colab_type": "code",
        "colab": {
          "base_uri": "https://localhost:8080/",
          "height": 197
        },
        "outputId": "f1da7867-e7b1-4d0b-da3f-2acf7f1a8511"
      },
      "source": [
        "data_tarih = data.select_dtypes(include=['object'])\n",
        "data_tarih.head()\n"
      ],
      "execution_count": 18,
      "outputs": [
        {
          "output_type": "execute_result",
          "data": {
            "text/html": [
              "<div>\n",
              "<style scoped>\n",
              "    .dataframe tbody tr th:only-of-type {\n",
              "        vertical-align: middle;\n",
              "    }\n",
              "\n",
              "    .dataframe tbody tr th {\n",
              "        vertical-align: top;\n",
              "    }\n",
              "\n",
              "    .dataframe thead th {\n",
              "        text-align: right;\n",
              "    }\n",
              "</style>\n",
              "<table border=\"1\" class=\"dataframe\">\n",
              "  <thead>\n",
              "    <tr style=\"text-align: right;\">\n",
              "      <th></th>\n",
              "      <th>Tarih</th>\n",
              "    </tr>\n",
              "  </thead>\n",
              "  <tbody>\n",
              "    <tr>\n",
              "      <th>0</th>\n",
              "      <td>1/1/2020</td>\n",
              "    </tr>\n",
              "    <tr>\n",
              "      <th>1</th>\n",
              "      <td>1/2/2020</td>\n",
              "    </tr>\n",
              "    <tr>\n",
              "      <th>2</th>\n",
              "      <td>1/3/2020</td>\n",
              "    </tr>\n",
              "    <tr>\n",
              "      <th>3</th>\n",
              "      <td>1/4/2020</td>\n",
              "    </tr>\n",
              "    <tr>\n",
              "      <th>4</th>\n",
              "      <td>1/5/2020</td>\n",
              "    </tr>\n",
              "  </tbody>\n",
              "</table>\n",
              "</div>"
            ],
            "text/plain": [
              "      Tarih\n",
              "0  1/1/2020\n",
              "1  1/2/2020\n",
              "2  1/3/2020\n",
              "3  1/4/2020\n",
              "4  1/5/2020"
            ]
          },
          "metadata": {
            "tags": []
          },
          "execution_count": 18
        }
      ]
    },
    {
      "cell_type": "code",
      "metadata": {
        "id": "t29yfGwvzvhh",
        "colab_type": "code",
        "colab": {
          "base_uri": "https://localhost:8080/",
          "height": 407
        },
        "outputId": "e4d47d30-6670-4ae7-910d-5436fecbdb9b"
      },
      "source": [
        "from fancyimpute import KNN #KNN ile boş veri doldurma\n",
        "var_tarih = list(data_tarih)\n",
        "var_maddeler = list(data_tarihsiz)\n",
        "knn_imp = KNN(k=7).fit_transform(data_tarihsiz);#knn ile boş değerleri doldurdum\n",
        "knn_imp[0:10]"
      ],
      "execution_count": 19,
      "outputs": [
        {
          "output_type": "stream",
          "text": [
            "Imputing row 1/136 with 0 missing, elapsed time: 0.013\n",
            "Imputing row 101/136 with 0 missing, elapsed time: 0.014\n"
          ],
          "name": "stdout"
        },
        {
          "output_type": "execute_result",
          "data": {
            "text/plain": [
              "array([[  5.78729069,  39.81201396,  15.095931  ,  26.7712599 ,\n",
              "         39.81201396],\n",
              "       [  7.41732075,  91.29817709,  30.49541613,  25.59634572,\n",
              "         91.29817709],\n",
              "       [  8.00173182,  97.01569531,  47.33213654,  47.81651354,\n",
              "         97.01569531],\n",
              "       [  8.64186953,  93.01313385,  34.25309542,  44.4180736 ,\n",
              "         93.01313385],\n",
              "       [  7.92910281,  92.10389115,  43.87034325,  49.58854219,\n",
              "         92.10389115],\n",
              "       [ 13.96548454, 112.52207813, 105.16929293,  94.04153594,\n",
              "        112.52207813],\n",
              "       [ 22.74430423, 104.57318875, 153.521045  , 114.76596903,\n",
              "        153.521045  ],\n",
              "       [ 11.03483198, 107.04463177, -68.86181786,  83.27766406,\n",
              "        107.04463177],\n",
              "       [  7.19392799,  37.31454396,  12.57290309,  27.89717666,\n",
              "         37.31454396],\n",
              "       [  8.84688734,  83.92187344,  23.09448492,  35.65324791,\n",
              "         83.92187344]])"
            ]
          },
          "metadata": {
            "tags": []
          },
          "execution_count": 19
        }
      ]
    },
    {
      "cell_type": "code",
      "metadata": {
        "id": "OSko2dpPz3yj",
        "colab_type": "code",
        "colab": {
          "base_uri": "https://localhost:8080/",
          "height": 197
        },
        "outputId": "34426930-61ac-44c9-9f60-2a3b14f2d4d9"
      },
      "source": [
        "df = pd.DataFrame(knn_imp)\n",
        "df.head()"
      ],
      "execution_count": 20,
      "outputs": [
        {
          "output_type": "execute_result",
          "data": {
            "text/html": [
              "<div>\n",
              "<style scoped>\n",
              "    .dataframe tbody tr th:only-of-type {\n",
              "        vertical-align: middle;\n",
              "    }\n",
              "\n",
              "    .dataframe tbody tr th {\n",
              "        vertical-align: top;\n",
              "    }\n",
              "\n",
              "    .dataframe thead th {\n",
              "        text-align: right;\n",
              "    }\n",
              "</style>\n",
              "<table border=\"1\" class=\"dataframe\">\n",
              "  <thead>\n",
              "    <tr style=\"text-align: right;\">\n",
              "      <th></th>\n",
              "      <th>0</th>\n",
              "      <th>1</th>\n",
              "      <th>2</th>\n",
              "      <th>3</th>\n",
              "      <th>4</th>\n",
              "    </tr>\n",
              "  </thead>\n",
              "  <tbody>\n",
              "    <tr>\n",
              "      <th>0</th>\n",
              "      <td>5.787291</td>\n",
              "      <td>39.812014</td>\n",
              "      <td>15.095931</td>\n",
              "      <td>26.771260</td>\n",
              "      <td>39.812014</td>\n",
              "    </tr>\n",
              "    <tr>\n",
              "      <th>1</th>\n",
              "      <td>7.417321</td>\n",
              "      <td>91.298177</td>\n",
              "      <td>30.495416</td>\n",
              "      <td>25.596346</td>\n",
              "      <td>91.298177</td>\n",
              "    </tr>\n",
              "    <tr>\n",
              "      <th>2</th>\n",
              "      <td>8.001732</td>\n",
              "      <td>97.015695</td>\n",
              "      <td>47.332137</td>\n",
              "      <td>47.816514</td>\n",
              "      <td>97.015695</td>\n",
              "    </tr>\n",
              "    <tr>\n",
              "      <th>3</th>\n",
              "      <td>8.641870</td>\n",
              "      <td>93.013134</td>\n",
              "      <td>34.253095</td>\n",
              "      <td>44.418074</td>\n",
              "      <td>93.013134</td>\n",
              "    </tr>\n",
              "    <tr>\n",
              "      <th>4</th>\n",
              "      <td>7.929103</td>\n",
              "      <td>92.103891</td>\n",
              "      <td>43.870343</td>\n",
              "      <td>49.588542</td>\n",
              "      <td>92.103891</td>\n",
              "    </tr>\n",
              "  </tbody>\n",
              "</table>\n",
              "</div>"
            ],
            "text/plain": [
              "          0          1          2          3          4\n",
              "0  5.787291  39.812014  15.095931  26.771260  39.812014\n",
              "1  7.417321  91.298177  30.495416  25.596346  91.298177\n",
              "2  8.001732  97.015695  47.332137  47.816514  97.015695\n",
              "3  8.641870  93.013134  34.253095  44.418074  93.013134\n",
              "4  7.929103  92.103891  43.870343  49.588542  92.103891"
            ]
          },
          "metadata": {
            "tags": []
          },
          "execution_count": 20
        }
      ]
    },
    {
      "cell_type": "code",
      "metadata": {
        "id": "wEsyo8Xkz_Xo",
        "colab_type": "code",
        "colab": {
          "base_uri": "https://localhost:8080/",
          "height": 197
        },
        "outputId": "f490089b-367e-4084-c0af-a3b67c2eb4fc"
      },
      "source": [
        "df.columns = var_maddeler\n",
        "df = pd.concat([data_tarih, df], axis=1, sort=False)\n",
        "df.head()"
      ],
      "execution_count": 21,
      "outputs": [
        {
          "output_type": "execute_result",
          "data": {
            "text/html": [
              "<div>\n",
              "<style scoped>\n",
              "    .dataframe tbody tr th:only-of-type {\n",
              "        vertical-align: middle;\n",
              "    }\n",
              "\n",
              "    .dataframe tbody tr th {\n",
              "        vertical-align: top;\n",
              "    }\n",
              "\n",
              "    .dataframe thead th {\n",
              "        text-align: right;\n",
              "    }\n",
              "</style>\n",
              "<table border=\"1\" class=\"dataframe\">\n",
              "  <thead>\n",
              "    <tr style=\"text-align: right;\">\n",
              "      <th></th>\n",
              "      <th>Tarih</th>\n",
              "      <th>si</th>\n",
              "      <th>ni</th>\n",
              "      <th>spi</th>\n",
              "      <th>rpi</th>\n",
              "      <th>AQI</th>\n",
              "    </tr>\n",
              "  </thead>\n",
              "  <tbody>\n",
              "    <tr>\n",
              "      <th>0</th>\n",
              "      <td>1/1/2020</td>\n",
              "      <td>5.787291</td>\n",
              "      <td>39.812014</td>\n",
              "      <td>15.095931</td>\n",
              "      <td>26.771260</td>\n",
              "      <td>39.812014</td>\n",
              "    </tr>\n",
              "    <tr>\n",
              "      <th>1</th>\n",
              "      <td>1/2/2020</td>\n",
              "      <td>7.417321</td>\n",
              "      <td>91.298177</td>\n",
              "      <td>30.495416</td>\n",
              "      <td>25.596346</td>\n",
              "      <td>91.298177</td>\n",
              "    </tr>\n",
              "    <tr>\n",
              "      <th>2</th>\n",
              "      <td>1/3/2020</td>\n",
              "      <td>8.001732</td>\n",
              "      <td>97.015695</td>\n",
              "      <td>47.332137</td>\n",
              "      <td>47.816514</td>\n",
              "      <td>97.015695</td>\n",
              "    </tr>\n",
              "    <tr>\n",
              "      <th>3</th>\n",
              "      <td>1/4/2020</td>\n",
              "      <td>8.641870</td>\n",
              "      <td>93.013134</td>\n",
              "      <td>34.253095</td>\n",
              "      <td>44.418074</td>\n",
              "      <td>93.013134</td>\n",
              "    </tr>\n",
              "    <tr>\n",
              "      <th>4</th>\n",
              "      <td>1/5/2020</td>\n",
              "      <td>7.929103</td>\n",
              "      <td>92.103891</td>\n",
              "      <td>43.870343</td>\n",
              "      <td>49.588542</td>\n",
              "      <td>92.103891</td>\n",
              "    </tr>\n",
              "  </tbody>\n",
              "</table>\n",
              "</div>"
            ],
            "text/plain": [
              "      Tarih        si         ni        spi        rpi        AQI\n",
              "0  1/1/2020  5.787291  39.812014  15.095931  26.771260  39.812014\n",
              "1  1/2/2020  7.417321  91.298177  30.495416  25.596346  91.298177\n",
              "2  1/3/2020  8.001732  97.015695  47.332137  47.816514  97.015695\n",
              "3  1/4/2020  8.641870  93.013134  34.253095  44.418074  93.013134\n",
              "4  1/5/2020  7.929103  92.103891  43.870343  49.588542  92.103891"
            ]
          },
          "metadata": {
            "tags": []
          },
          "execution_count": 21
        }
      ]
    },
    {
      "cell_type": "code",
      "metadata": {
        "colab_type": "code",
        "id": "WGNpHVENiMF8",
        "outputId": "9f306791-0e5a-4830-b6d4-9467180d62e8",
        "colab": {
          "base_uri": "https://localhost:8080/",
          "height": 141
        }
      },
      "source": [
        "df.isnull().sum()"
      ],
      "execution_count": 22,
      "outputs": [
        {
          "output_type": "execute_result",
          "data": {
            "text/plain": [
              "Tarih    0\n",
              "si       0\n",
              "ni       0\n",
              "spi      0\n",
              "rpi      0\n",
              "AQI      0\n",
              "dtype: int64"
            ]
          },
          "metadata": {
            "tags": []
          },
          "execution_count": 22
        }
      ]
    },
    {
      "cell_type": "code",
      "metadata": {
        "colab_type": "code",
        "id": "cH6Kbm4siMED",
        "colab": {}
      },
      "source": [
        "df = df[:-26]\n",
        "dataset_test = df.copy()\n",
        "dataset_train = df.copy()\n",
        " \n",
        "data = df"
      ],
      "execution_count": 0,
      "outputs": []
    },
    {
      "cell_type": "code",
      "metadata": {
        "id": "HNupOrtlIVtg",
        "colab_type": "code",
        "colab": {}
      },
      "source": [
        "import numpy\n",
        "import pandas as pd \n",
        "import matplotlib.pyplot as plt\n",
        "import math\n",
        "from keras.models import Sequential\n",
        "from keras.layers import Dense, Activation, Dropout\n",
        "from keras.layers import LSTM, Flatten, BatchNormalization\n",
        "from sklearn.preprocessing import MinMaxScaler\n",
        "from sklearn.metrics import mean_squared_error"
      ],
      "execution_count": 0,
      "outputs": []
    },
    {
      "cell_type": "code",
      "metadata": {
        "colab_type": "code",
        "id": "zGqCbBBSiL_K",
        "outputId": "c7ddf2e4-1be8-4bc4-84e3-c8c92166b686",
        "colab": {
          "base_uri": "https://localhost:8080/",
          "height": 457
        }
      },
      "source": [
        "dataset = data.iloc[:,1].values\n",
        "plt.plot(dataset)\n",
        "plt.xlabel(\"Zaman\")\n",
        "plt.ylabel(\"AQI Değişimi\")\n",
        "plt.title(\"AQI\")\n",
        "plt.show()"
      ],
      "execution_count": 25,
      "outputs": [
        {
          "output_type": "display_data",
          "data": {
            "image/png": "[encoded data removed]",
            "text/plain": [
              "<Figure size 720x504 with 1 Axes>"
            ]
          },
          "metadata": {
            "tags": [],
            "needs_background": "light"
          }
        }
      ]
    },
    {
      "cell_type": "code",
      "metadata": {
        "colab_type": "code",
        "id": "KOrvct3tiL8g",
        "outputId": "2bb6387c-4d10-4bb2-eb9d-86dbd6582005",
        "colab": {
          "base_uri": "https://localhost:8080/",
          "height": 34
        }
      },
      "source": [
        "dataset = dataset.reshape(-1,1)\n",
        "dataset = dataset.astype(\"float32\")\n",
        "dataset.shape"
      ],
      "execution_count": 26,
      "outputs": [
        {
          "output_type": "execute_result",
          "data": {
            "text/plain": [
              "(110, 1)"
            ]
          },
          "metadata": {
            "tags": []
          },
          "execution_count": 26
        }
      ]
    },
    {
      "cell_type": "code",
      "metadata": {
        "colab_type": "code",
        "id": "3lzRpdIiiL63",
        "colab": {}
      },
      "source": [
        "scaler = MinMaxScaler(feature_range=(0, 1))\n",
        "dataset = scaler.fit_transform(dataset)"
      ],
      "execution_count": 0,
      "outputs": []
    },
    {
      "cell_type": "code",
      "metadata": {
        "colab_type": "code",
        "id": "fPPzJWgiiL4p",
        "outputId": "39c38216-2763-4715-d225-c935943fb7e8",
        "colab": {
          "base_uri": "https://localhost:8080/",
          "height": 34
        }
      },
      "source": [
        "train_size = int(len(dataset) * 0.50)\n",
        "test_size = len(dataset) - train_size\n",
        "train = dataset[0:train_size,:]\n",
        "test = dataset[train_size:len(dataset),:]\n",
        "print(\"Eğitim Boyutu: {}, Test Boyutu: {} \".format(len(train), len(test)))"
      ],
      "execution_count": 28,
      "outputs": [
        {
          "output_type": "stream",
          "text": [
            "Eğitim Boyutu: 55, Test Boyutu: 55 \n"
          ],
          "name": "stdout"
        }
      ]
    },
    {
      "cell_type": "code",
      "metadata": {
        "colab_type": "code",
        "id": "lBhwbIspiLyg",
        "colab": {}
      },
      "source": [
        "time_stemp = 10\n",
        "dataX = []\n",
        "dataY = []\n",
        "for i in range(len(train)-time_stemp-1):\n",
        "    a = train[i:(i+time_stemp), 0]\n",
        "    dataX.append(a)\n",
        "    dataY.append(train[i + time_stemp, 0])\n",
        "trainX = numpy.array(dataX)\n",
        "trainY = numpy.array(dataY)  \n"
      ],
      "execution_count": 0,
      "outputs": []
    },
    {
      "cell_type": "code",
      "metadata": {
        "colab_type": "code",
        "id": "C8SZ-SlLiLva",
        "colab": {}
      },
      "source": [
        "dataX = []\n",
        "dataY = []\n",
        "for i in range(len(test)-time_stemp-1):\n",
        "    a = test[i:(i+time_stemp), 0]\n",
        "    dataX.append(a)\n",
        "    dataY.append(test[i + time_stemp, 0])\n",
        "testX = numpy.array(dataX)\n",
        "testY = numpy.array(dataY)  "
      ],
      "execution_count": 0,
      "outputs": []
    },
    {
      "cell_type": "code",
      "metadata": {
        "colab_type": "code",
        "id": "_OhIfuJoiLra",
        "colab": {}
      },
      "source": [
        "trainX = numpy.reshape(trainX, (trainX.shape[0], 1, trainX.shape[1]))\n",
        "testX = numpy.reshape(testX, (testX.shape[0], 1, testX.shape[1]))"
      ],
      "execution_count": 0,
      "outputs": []
    },
    {
      "cell_type": "code",
      "metadata": {
        "colab_type": "code",
        "id": "koplDu-CiLf_",
        "colab": {}
      },
      "source": [
        "# LSTM Model\n",
        "model = Sequential()\n",
        "model.add(LSTM(1024, input_shape=(1, time_stemp)))  \n",
        "model.add(Dense(1))\n",
        "model.compile(loss='mean_squared_error', optimizer='adam')\n",
        "model.fit(trainX, trainY, epochs=1000, batch_size=32)\n"
      ],
      "execution_count": 0,
      "outputs": []
    },
    {
      "cell_type": "code",
      "metadata": {
        "colab_type": "code",
        "id": "cmn93o5rnAj3",
        "outputId": "4a479e7b-e8fe-4122-b903-3d648a27b19d",
        "colab": {
          "base_uri": "https://localhost:8080/",
          "height": 52
        }
      },
      "source": [
        "trainPredict = model.predict(trainX)\n",
        "testPredict = model.predict(testX)\n",
        "# invert predictions\n",
        "trainPredict = scaler.inverse_transform(trainPredict)\n",
        "trainY = scaler.inverse_transform([trainY])\n",
        "testPredict = scaler.inverse_transform(testPredict)\n",
        "testY = scaler.inverse_transform([testY])\n",
        "# calculate root mean squared error\n",
        "trainScore = math.sqrt(mean_squared_error(trainY[0], trainPredict[:,0]))\n",
        "print('Eğitim Skor: %.2f RMSE' % (trainScore))\n",
        "testScore = math.sqrt(mean_squared_error(testY[0], testPredict[:,0]))\n",
        "print('Test Skor: %.2f RMSE' % (testScore))"
      ],
      "execution_count": 33,
      "outputs": [
        {
          "output_type": "stream",
          "text": [
            "Eğitim Skor: 2.16 RMSE\n",
            "Test Skor: 3.81 RMSE\n"
          ],
          "name": "stdout"
        }
      ]
    },
    {
      "cell_type": "code",
      "metadata": {
        "colab_type": "code",
        "id": "RaHASyKMnAf2",
        "outputId": "87434ab4-3e7d-4131-833d-6271e615a2c8",
        "colab": {
          "base_uri": "https://localhost:8080/",
          "height": 427
        }
      },
      "source": [
        "# shifting train\n",
        "trainPredictPlot = numpy.empty_like(dataset)\n",
        "trainPredictPlot[:, :] = numpy.nan\n",
        "trainPredictPlot[time_stemp:len(trainPredict)+time_stemp, :] = trainPredict\n",
        "# shifting test predictions for plotting\n",
        "testPredictPlot = numpy.empty_like(dataset)\n",
        "testPredictPlot[:, :] = numpy.nan\n",
        "testPredictPlot[len(trainPredict)+(time_stemp*2)+1:len(dataset)-1, :] = testPredict\n",
        "# plot baseline and predictions\n",
        "plt.plot(scaler.inverse_transform(dataset),label = 'Gerçek AQI')\n",
        "plt.plot(trainPredictPlot, label = 'Eğitilen ve tahmin yapılan kısım') \n",
        "plt.plot(testPredictPlot, label = 'Yapılan tahmin')\n",
        "plt.legend()\n",
        "#plt.plot(predicted_stock_price, color = 'blue', label = 'Predicted AQI')\n",
        "plt.show()"
      ],
      "execution_count": 34,
      "outputs": [
        {
          "output_type": "display_data",
          "data": {
            "image/png": "[encoded data removed]",
            "text/plain": [
              "<Figure size 720x504 with 1 Axes>"
            ]
          },
          "metadata": {
            "tags": [],
            "needs_background": "light"
          }
        }
      ]
    },
    {
      "cell_type": "code",
      "metadata": {
        "colab_type": "code",
        "id": "ozlMgiwZnAYE",
        "colab": {}
      },
      "source": [
        ""
      ],
      "execution_count": 0,
      "outputs": []
    },
    {
      "cell_type": "code",
      "metadata": {
        "colab_type": "code",
        "id": "qQUKnFzqnAWw",
        "colab": {}
      },
      "source": [
        ""
      ],
      "execution_count": 0,
      "outputs": []
    },
    {
      "cell_type": "code",
      "metadata": {
        "colab_type": "code",
        "id": "hGDvK5HJnATK",
        "colab": {}
      },
      "source": [
        ""
      ],
      "execution_count": 0,
      "outputs": []
    },
    {
      "cell_type": "code",
      "metadata": {
        "id": "dyNgcAFlswkf",
        "colab_type": "code",
        "colab": {}
      },
      "source": [
        ""
      ],
      "execution_count": 0,
      "outputs": []
    }
  ]
}