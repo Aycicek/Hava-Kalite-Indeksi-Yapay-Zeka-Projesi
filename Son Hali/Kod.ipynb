{
  "nbformat": 4,
  "nbformat_minor": 0,
  "metadata": {
    "colab": {
      "name": "Untitled0.ipynb",
      "provenance": [],
      "collapsed_sections": []
    },
    "kernelspec": {
      "display_name": "Python 3",
      "language": "python",
      "name": "python3"
    },
    "language_info": {
      "codemirror_mode": {
        "name": "ipython",
        "version": 3
      },
      "file_extension": ".py",
      "mimetype": "text/x-python",
      "name": "python",
      "nbconvert_exporter": "python",
      "pygments_lexer": "ipython3",
      "version": "3.7.7"
    }
  },
  "cells": [
    {
      "cell_type": "code",
      "metadata": {
        "colab_type": "code",
        "id": "Ki6b9XeKiMWM",
        "colab": {
          "base_uri": "https://localhost:8080/",
          "height": 125
        },
        "outputId": "232d582e-fd4f-4ea4-ca81-40d019059213"
      },
      "source": [
        "from google.colab import drive\n",
        "drive.mount(\"/content/drive\")\n"
      ],
      "execution_count": null,
      "outputs": [
        {
          "output_type": "stream",
          "text": [
            "Go to this URL in a browser: https://accounts.google.com/o/oauth2/auth?client_id=947318989803-6bn6qk8qdgf4n4g3pfee6491hc0brc4i.apps.googleusercontent.com&redirect_uri=urn%3aietf%3awg%3aoauth%3a2.0%3aoob&response_type=code&scope=email%20https%3a%2f%2fwww.googleapis.com%2fauth%2fdocs.test%20https%3a%2f%2fwww.googleapis.com%2fauth%2fdrive%20https%3a%2f%2fwww.googleapis.com%2fauth%2fdrive.photos.readonly%20https%3a%2f%2fwww.googleapis.com%2fauth%2fpeopleapi.readonly\n",
            "\n",
            "Enter your authorization code:\n",
            "··········\n",
            "Mounted at /content/drive\n"
          ],
          "name": "stdout"
        }
      ]
    },
    {
      "cell_type": "code",
      "metadata": {
        "id": "SToYue9zs9D8",
        "colab_type": "code",
        "colab": {
          "base_uri": "https://localhost:8080/",
          "height": 72
        },
        "outputId": "6b05c7e7-1f07-49c2-d76d-7aa68862b72a"
      },
      "source": [
        "import numpy as np\n",
        "import pandas as pd \n",
        "import statsmodels.api as sm\n",
        "import statsmodels.formula.api as smf\n",
        "import seaborn as sns\n",
        "from sklearn.preprocessing import scale \n",
        "from sklearn.model_selection import train_test_split, GridSearchCV, cross_val_score\n",
        "from sklearn.metrics import confusion_matrix, accuracy_score, classification_report\n",
        "from sklearn.metrics import roc_auc_score,roc_curve\n",
        "import statsmodels.formula.api as smf\n",
        "import matplotlib.pyplot as plt\n",
        "from sklearn.neighbors import KNeighborsClassifier\n",
        "from sklearn.discriminant_analysis import LinearDiscriminantAnalysis\n",
        "from sklearn.linear_model import LogisticRegression\n",
        "from sklearn.svm import SVC\n",
        "from sklearn.naive_bayes import GaussianNB\n",
        "from sklearn import tree\n",
        "from sklearn.ensemble import RandomForestClassifier\n",
        "from sklearn.ensemble import GradientBoostingClassifier\n",
        "from xgboost import XGBClassifier\n",
        "from lightgbm import LGBMClassifier\n",
        "\n",
        "plt.rcParams['figure.figsize'] = (10, 7)\n",
        "\n",
        "import warnings\n",
        "warnings.filterwarnings('ignore')"
      ],
      "execution_count": null,
      "outputs": [
        {
          "output_type": "stream",
          "text": [
            "/usr/local/lib/python3.6/dist-packages/statsmodels/tools/_testing.py:19: FutureWarning: pandas.util.testing is deprecated. Use the functions in the public API at pandas.testing instead.\n",
            "  import pandas.util.testing as tm\n"
          ],
          "name": "stderr"
        }
      ]
    },
    {
      "cell_type": "code",
      "metadata": {
        "colab_type": "code",
        "id": "BZXiOL8xiMUq",
        "colab": {
          "base_uri": "https://localhost:8080/",
          "height": 195
        },
        "outputId": "219fd7c6-9d56-44d0-f17f-bb7eeb510ccc"
      },
      "source": [
        "data=pd.read_csv('/content/drive/My Drive/Güncel Konular/veri/veri.csv',encoding=\"ISO-8859-1\")\n",
        "data_tarihsiz = data.select_dtypes(include=['float64'])\n",
        "data_tarihsiz.head()"
      ],
      "execution_count": null,
      "outputs": [
        {
          "output_type": "execute_result",
          "data": {
            "text/html": [
              "<div>\n",
              "<style scoped>\n",
              "    .dataframe tbody tr th:only-of-type {\n",
              "        vertical-align: middle;\n",
              "    }\n",
              "\n",
              "    .dataframe tbody tr th {\n",
              "        vertical-align: top;\n",
              "    }\n",
              "\n",
              "    .dataframe thead th {\n",
              "        text-align: right;\n",
              "    }\n",
              "</style>\n",
              "<table border=\"1\" class=\"dataframe\">\n",
              "  <thead>\n",
              "    <tr style=\"text-align: right;\">\n",
              "      <th></th>\n",
              "      <th>PM10</th>\n",
              "      <th>SO2</th>\n",
              "      <th>CO</th>\n",
              "      <th>NO2</th>\n",
              "      <th>NOX</th>\n",
              "      <th>NO</th>\n",
              "    </tr>\n",
              "  </thead>\n",
              "  <tbody>\n",
              "    <tr>\n",
              "      <th>0</th>\n",
              "      <td>21.417008</td>\n",
              "      <td>4.629833</td>\n",
              "      <td>605.988096</td>\n",
              "      <td>31.849611</td>\n",
              "      <td>46.945543</td>\n",
              "      <td>15.095931</td>\n",
              "    </tr>\n",
              "    <tr>\n",
              "      <th>1</th>\n",
              "      <td>20.477077</td>\n",
              "      <td>5.933857</td>\n",
              "      <td>800.393350</td>\n",
              "      <td>47.038542</td>\n",
              "      <td>77.533957</td>\n",
              "      <td>30.495416</td>\n",
              "    </tr>\n",
              "    <tr>\n",
              "      <th>2</th>\n",
              "      <td>38.253211</td>\n",
              "      <td>6.401385</td>\n",
              "      <td>911.299383</td>\n",
              "      <td>51.612556</td>\n",
              "      <td>98.944691</td>\n",
              "      <td>47.332137</td>\n",
              "    </tr>\n",
              "    <tr>\n",
              "      <th>3</th>\n",
              "      <td>35.534459</td>\n",
              "      <td>6.913496</td>\n",
              "      <td>952.646500</td>\n",
              "      <td>48.410507</td>\n",
              "      <td>82.663605</td>\n",
              "      <td>34.253095</td>\n",
              "    </tr>\n",
              "    <tr>\n",
              "      <th>4</th>\n",
              "      <td>39.670834</td>\n",
              "      <td>6.343282</td>\n",
              "      <td>1056.357483</td>\n",
              "      <td>47.683113</td>\n",
              "      <td>91.553461</td>\n",
              "      <td>43.870343</td>\n",
              "    </tr>\n",
              "  </tbody>\n",
              "</table>\n",
              "</div>"
            ],
            "text/plain": [
              "        PM10       SO2           CO        NO2        NOX         NO\n",
              "0  21.417008  4.629833   605.988096  31.849611  46.945543  15.095931\n",
              "1  20.477077  5.933857   800.393350  47.038542  77.533957  30.495416\n",
              "2  38.253211  6.401385   911.299383  51.612556  98.944691  47.332137\n",
              "3  35.534459  6.913496   952.646500  48.410507  82.663605  34.253095\n",
              "4  39.670834  6.343282  1056.357483  47.683113  91.553461  43.870343"
            ]
          },
          "metadata": {
            "tags": []
          },
          "execution_count": 3
        }
      ]
    },
    {
      "cell_type": "code",
      "metadata": {
        "id": "wz12PmB8vGlw",
        "colab_type": "code",
        "colab": {
          "base_uri": "https://localhost:8080/",
          "height": 158
        },
        "outputId": "3ab7bfc7-1b94-410b-8139-1931b9d928e0"
      },
      "source": [
        "data.dtypes"
      ],
      "execution_count": null,
      "outputs": [
        {
          "output_type": "execute_result",
          "data": {
            "text/plain": [
              "Tarih     object\n",
              "PM10     float64\n",
              "SO2      float64\n",
              "CO       float64\n",
              "NO2      float64\n",
              "NOX      float64\n",
              "NO       float64\n",
              "dtype: object"
            ]
          },
          "metadata": {
            "tags": []
          },
          "execution_count": 4
        }
      ]
    },
    {
      "cell_type": "code",
      "metadata": {
        "id": "QGFEHP-rvLpN",
        "colab_type": "code",
        "colab": {
          "base_uri": "https://localhost:8080/",
          "height": 195
        },
        "outputId": "dc9240ce-38fc-4b91-b3b4-31c088f8242a"
      },
      "source": [
        "data_tarih = data.select_dtypes(include=['object'])\n",
        "data_tarih.head()"
      ],
      "execution_count": null,
      "outputs": [
        {
          "output_type": "execute_result",
          "data": {
            "text/html": [
              "<div>\n",
              "<style scoped>\n",
              "    .dataframe tbody tr th:only-of-type {\n",
              "        vertical-align: middle;\n",
              "    }\n",
              "\n",
              "    .dataframe tbody tr th {\n",
              "        vertical-align: top;\n",
              "    }\n",
              "\n",
              "    .dataframe thead th {\n",
              "        text-align: right;\n",
              "    }\n",
              "</style>\n",
              "<table border=\"1\" class=\"dataframe\">\n",
              "  <thead>\n",
              "    <tr style=\"text-align: right;\">\n",
              "      <th></th>\n",
              "      <th>Tarih</th>\n",
              "    </tr>\n",
              "  </thead>\n",
              "  <tbody>\n",
              "    <tr>\n",
              "      <th>0</th>\n",
              "      <td>1/1/2020</td>\n",
              "    </tr>\n",
              "    <tr>\n",
              "      <th>1</th>\n",
              "      <td>1/2/2020</td>\n",
              "    </tr>\n",
              "    <tr>\n",
              "      <th>2</th>\n",
              "      <td>1/3/2020</td>\n",
              "    </tr>\n",
              "    <tr>\n",
              "      <th>3</th>\n",
              "      <td>1/4/2020</td>\n",
              "    </tr>\n",
              "    <tr>\n",
              "      <th>4</th>\n",
              "      <td>1/5/2020</td>\n",
              "    </tr>\n",
              "  </tbody>\n",
              "</table>\n",
              "</div>"
            ],
            "text/plain": [
              "      Tarih\n",
              "0  1/1/2020\n",
              "1  1/2/2020\n",
              "2  1/3/2020\n",
              "3  1/4/2020\n",
              "4  1/5/2020"
            ]
          },
          "metadata": {
            "tags": []
          },
          "execution_count": 5
        }
      ]
    },
    {
      "cell_type": "code",
      "metadata": {
        "id": "S_fW9-sDwBGN",
        "colab_type": "code",
        "colab": {
          "base_uri": "https://localhost:8080/",
          "height": 225
        },
        "outputId": "b75e3c6b-b8bb-4205-e344-4b534093aac9"
      },
      "source": [
        "data_tarihsiz.describe().T"
      ],
      "execution_count": null,
      "outputs": [
        {
          "output_type": "execute_result",
          "data": {
            "text/html": [
              "<div>\n",
              "<style scoped>\n",
              "    .dataframe tbody tr th:only-of-type {\n",
              "        vertical-align: middle;\n",
              "    }\n",
              "\n",
              "    .dataframe tbody tr th {\n",
              "        vertical-align: top;\n",
              "    }\n",
              "\n",
              "    .dataframe thead th {\n",
              "        text-align: right;\n",
              "    }\n",
              "</style>\n",
              "<table border=\"1\" class=\"dataframe\">\n",
              "  <thead>\n",
              "    <tr style=\"text-align: right;\">\n",
              "      <th></th>\n",
              "      <th>count</th>\n",
              "      <th>mean</th>\n",
              "      <th>std</th>\n",
              "      <th>min</th>\n",
              "      <th>25%</th>\n",
              "      <th>50%</th>\n",
              "      <th>75%</th>\n",
              "      <th>max</th>\n",
              "    </tr>\n",
              "  </thead>\n",
              "  <tbody>\n",
              "    <tr>\n",
              "      <th>PM10</th>\n",
              "      <td>136.0</td>\n",
              "      <td>44.432776</td>\n",
              "      <td>26.712811</td>\n",
              "      <td>9.958241</td>\n",
              "      <td>25.114722</td>\n",
              "      <td>37.185330</td>\n",
              "      <td>55.674562</td>\n",
              "      <td>139.652997</td>\n",
              "    </tr>\n",
              "    <tr>\n",
              "      <th>SO2</th>\n",
              "      <td>136.0</td>\n",
              "      <td>5.738041</td>\n",
              "      <td>3.605287</td>\n",
              "      <td>1.113484</td>\n",
              "      <td>2.900947</td>\n",
              "      <td>5.199122</td>\n",
              "      <td>7.449457</td>\n",
              "      <td>18.423953</td>\n",
              "    </tr>\n",
              "    <tr>\n",
              "      <th>CO</th>\n",
              "      <td>136.0</td>\n",
              "      <td>875.498821</td>\n",
              "      <td>380.540060</td>\n",
              "      <td>407.386700</td>\n",
              "      <td>572.044346</td>\n",
              "      <td>784.988175</td>\n",
              "      <td>1088.569854</td>\n",
              "      <td>2116.150033</td>\n",
              "    </tr>\n",
              "    <tr>\n",
              "      <th>NO2</th>\n",
              "      <td>109.0</td>\n",
              "      <td>51.433578</td>\n",
              "      <td>20.822738</td>\n",
              "      <td>14.722220</td>\n",
              "      <td>34.523171</td>\n",
              "      <td>47.038542</td>\n",
              "      <td>64.147297</td>\n",
              "      <td>112.399083</td>\n",
              "    </tr>\n",
              "    <tr>\n",
              "      <th>NOX</th>\n",
              "      <td>109.0</td>\n",
              "      <td>97.882481</td>\n",
              "      <td>69.172506</td>\n",
              "      <td>15.922980</td>\n",
              "      <td>42.480553</td>\n",
              "      <td>74.769960</td>\n",
              "      <td>130.512952</td>\n",
              "      <td>333.211312</td>\n",
              "    </tr>\n",
              "    <tr>\n",
              "      <th>NO</th>\n",
              "      <td>109.0</td>\n",
              "      <td>46.460232</td>\n",
              "      <td>49.788061</td>\n",
              "      <td>1.200764</td>\n",
              "      <td>8.083986</td>\n",
              "      <td>25.419030</td>\n",
              "      <td>65.606022</td>\n",
              "      <td>232.664927</td>\n",
              "    </tr>\n",
              "  </tbody>\n",
              "</table>\n",
              "</div>"
            ],
            "text/plain": [
              "      count        mean         std  ...         50%          75%          max\n",
              "PM10  136.0   44.432776   26.712811  ...   37.185330    55.674562   139.652997\n",
              "SO2   136.0    5.738041    3.605287  ...    5.199122     7.449457    18.423953\n",
              "CO    136.0  875.498821  380.540060  ...  784.988175  1088.569854  2116.150033\n",
              "NO2   109.0   51.433578   20.822738  ...   47.038542    64.147297   112.399083\n",
              "NOX   109.0   97.882481   69.172506  ...   74.769960   130.512952   333.211312\n",
              "NO    109.0   46.460232   49.788061  ...   25.419030    65.606022   232.664927\n",
              "\n",
              "[6 rows x 8 columns]"
            ]
          },
          "metadata": {
            "tags": []
          },
          "execution_count": 6
        }
      ]
    },
    {
      "cell_type": "code",
      "metadata": {
        "id": "MB45C2JiwWJX",
        "colab_type": "code",
        "colab": {
          "base_uri": "https://localhost:8080/",
          "height": 70
        },
        "outputId": "8ab90b01-ac00-4179-d357-27c21a948226"
      },
      "source": [
        "from fancyimpute import KNN #KNN ile boş veri doldurma\n",
        "var_tarih = list(data_tarih)\n",
        "var_maddeler = list(data_tarihsiz)\n",
        "knn_imp = KNN(k=7).fit_transform(data_tarihsiz);#knn ile boş değerleri doldurdum"
      ],
      "execution_count": null,
      "outputs": [
        {
          "output_type": "stream",
          "text": [
            "Using TensorFlow backend.\n"
          ],
          "name": "stderr"
        },
        {
          "output_type": "stream",
          "text": [
            "Imputing row 1/136 with 0 missing, elapsed time: 0.006\n",
            "Imputing row 101/136 with 0 missing, elapsed time: 0.006\n"
          ],
          "name": "stdout"
        }
      ]
    },
    {
      "cell_type": "code",
      "metadata": {
        "id": "karo5IZYw0zp",
        "colab_type": "code",
        "colab": {
          "base_uri": "https://localhost:8080/",
          "height": 195
        },
        "outputId": "6403e535-903a-43e0-b0f5-e706d504d62f"
      },
      "source": [
        "df = pd.DataFrame(knn_imp)\n",
        "df.head()"
      ],
      "execution_count": null,
      "outputs": [
        {
          "output_type": "execute_result",
          "data": {
            "text/html": [
              "<div>\n",
              "<style scoped>\n",
              "    .dataframe tbody tr th:only-of-type {\n",
              "        vertical-align: middle;\n",
              "    }\n",
              "\n",
              "    .dataframe tbody tr th {\n",
              "        vertical-align: top;\n",
              "    }\n",
              "\n",
              "    .dataframe thead th {\n",
              "        text-align: right;\n",
              "    }\n",
              "</style>\n",
              "<table border=\"1\" class=\"dataframe\">\n",
              "  <thead>\n",
              "    <tr style=\"text-align: right;\">\n",
              "      <th></th>\n",
              "      <th>0</th>\n",
              "      <th>1</th>\n",
              "      <th>2</th>\n",
              "      <th>3</th>\n",
              "      <th>4</th>\n",
              "      <th>5</th>\n",
              "    </tr>\n",
              "  </thead>\n",
              "  <tbody>\n",
              "    <tr>\n",
              "      <th>0</th>\n",
              "      <td>21.417008</td>\n",
              "      <td>4.629833</td>\n",
              "      <td>605.988096</td>\n",
              "      <td>31.849611</td>\n",
              "      <td>46.945543</td>\n",
              "      <td>15.095931</td>\n",
              "    </tr>\n",
              "    <tr>\n",
              "      <th>1</th>\n",
              "      <td>20.477077</td>\n",
              "      <td>5.933857</td>\n",
              "      <td>800.393350</td>\n",
              "      <td>47.038542</td>\n",
              "      <td>77.533957</td>\n",
              "      <td>30.495416</td>\n",
              "    </tr>\n",
              "    <tr>\n",
              "      <th>2</th>\n",
              "      <td>38.253211</td>\n",
              "      <td>6.401385</td>\n",
              "      <td>911.299383</td>\n",
              "      <td>51.612556</td>\n",
              "      <td>98.944691</td>\n",
              "      <td>47.332137</td>\n",
              "    </tr>\n",
              "    <tr>\n",
              "      <th>3</th>\n",
              "      <td>35.534459</td>\n",
              "      <td>6.913496</td>\n",
              "      <td>952.646500</td>\n",
              "      <td>48.410507</td>\n",
              "      <td>82.663605</td>\n",
              "      <td>34.253095</td>\n",
              "    </tr>\n",
              "    <tr>\n",
              "      <th>4</th>\n",
              "      <td>39.670834</td>\n",
              "      <td>6.343282</td>\n",
              "      <td>1056.357483</td>\n",
              "      <td>47.683113</td>\n",
              "      <td>91.553461</td>\n",
              "      <td>43.870343</td>\n",
              "    </tr>\n",
              "  </tbody>\n",
              "</table>\n",
              "</div>"
            ],
            "text/plain": [
              "           0         1            2          3          4          5\n",
              "0  21.417008  4.629833   605.988096  31.849611  46.945543  15.095931\n",
              "1  20.477077  5.933857   800.393350  47.038542  77.533957  30.495416\n",
              "2  38.253211  6.401385   911.299383  51.612556  98.944691  47.332137\n",
              "3  35.534459  6.913496   952.646500  48.410507  82.663605  34.253095\n",
              "4  39.670834  6.343282  1056.357483  47.683113  91.553461  43.870343"
            ]
          },
          "metadata": {
            "tags": []
          },
          "execution_count": 8
        }
      ]
    },
    {
      "cell_type": "code",
      "metadata": {
        "id": "qIvHVU6Ww89J",
        "colab_type": "code",
        "colab": {
          "base_uri": "https://localhost:8080/",
          "height": 195
        },
        "outputId": "0f470d9c-0ef6-4009-8b97-0bdd538ebd2b"
      },
      "source": [
        "df.columns = var_maddeler\n",
        "df = pd.concat([data_tarih, df], axis=1, sort=False)\n",
        "df.head()"
      ],
      "execution_count": null,
      "outputs": [
        {
          "output_type": "execute_result",
          "data": {
            "text/html": [
              "<div>\n",
              "<style scoped>\n",
              "    .dataframe tbody tr th:only-of-type {\n",
              "        vertical-align: middle;\n",
              "    }\n",
              "\n",
              "    .dataframe tbody tr th {\n",
              "        vertical-align: top;\n",
              "    }\n",
              "\n",
              "    .dataframe thead th {\n",
              "        text-align: right;\n",
              "    }\n",
              "</style>\n",
              "<table border=\"1\" class=\"dataframe\">\n",
              "  <thead>\n",
              "    <tr style=\"text-align: right;\">\n",
              "      <th></th>\n",
              "      <th>Tarih</th>\n",
              "      <th>PM10</th>\n",
              "      <th>SO2</th>\n",
              "      <th>CO</th>\n",
              "      <th>NO2</th>\n",
              "      <th>NOX</th>\n",
              "      <th>NO</th>\n",
              "    </tr>\n",
              "  </thead>\n",
              "  <tbody>\n",
              "    <tr>\n",
              "      <th>0</th>\n",
              "      <td>1/1/2020</td>\n",
              "      <td>21.417008</td>\n",
              "      <td>4.629833</td>\n",
              "      <td>605.988096</td>\n",
              "      <td>31.849611</td>\n",
              "      <td>46.945543</td>\n",
              "      <td>15.095931</td>\n",
              "    </tr>\n",
              "    <tr>\n",
              "      <th>1</th>\n",
              "      <td>1/2/2020</td>\n",
              "      <td>20.477077</td>\n",
              "      <td>5.933857</td>\n",
              "      <td>800.393350</td>\n",
              "      <td>47.038542</td>\n",
              "      <td>77.533957</td>\n",
              "      <td>30.495416</td>\n",
              "    </tr>\n",
              "    <tr>\n",
              "      <th>2</th>\n",
              "      <td>1/3/2020</td>\n",
              "      <td>38.253211</td>\n",
              "      <td>6.401385</td>\n",
              "      <td>911.299383</td>\n",
              "      <td>51.612556</td>\n",
              "      <td>98.944691</td>\n",
              "      <td>47.332137</td>\n",
              "    </tr>\n",
              "    <tr>\n",
              "      <th>3</th>\n",
              "      <td>1/4/2020</td>\n",
              "      <td>35.534459</td>\n",
              "      <td>6.913496</td>\n",
              "      <td>952.646500</td>\n",
              "      <td>48.410507</td>\n",
              "      <td>82.663605</td>\n",
              "      <td>34.253095</td>\n",
              "    </tr>\n",
              "    <tr>\n",
              "      <th>4</th>\n",
              "      <td>1/5/2020</td>\n",
              "      <td>39.670834</td>\n",
              "      <td>6.343282</td>\n",
              "      <td>1056.357483</td>\n",
              "      <td>47.683113</td>\n",
              "      <td>91.553461</td>\n",
              "      <td>43.870343</td>\n",
              "    </tr>\n",
              "  </tbody>\n",
              "</table>\n",
              "</div>"
            ],
            "text/plain": [
              "      Tarih       PM10       SO2           CO        NO2        NOX         NO\n",
              "0  1/1/2020  21.417008  4.629833   605.988096  31.849611  46.945543  15.095931\n",
              "1  1/2/2020  20.477077  5.933857   800.393350  47.038542  77.533957  30.495416\n",
              "2  1/3/2020  38.253211  6.401385   911.299383  51.612556  98.944691  47.332137\n",
              "3  1/4/2020  35.534459  6.913496   952.646500  48.410507  82.663605  34.253095\n",
              "4  1/5/2020  39.670834  6.343282  1056.357483  47.683113  91.553461  43.870343"
            ]
          },
          "metadata": {
            "tags": []
          },
          "execution_count": 9
        }
      ]
    },
    {
      "cell_type": "code",
      "metadata": {
        "id": "wy57yL0_xRSA",
        "colab_type": "code",
        "colab": {
          "base_uri": "https://localhost:8080/",
          "height": 158
        },
        "outputId": "e3eb6fde-6360-45d4-dedb-3b8b2923b830"
      },
      "source": [
        "df.isnull().sum()"
      ],
      "execution_count": null,
      "outputs": [
        {
          "output_type": "execute_result",
          "data": {
            "text/plain": [
              "Tarih    0\n",
              "PM10     0\n",
              "SO2      0\n",
              "CO       0\n",
              "NO2      0\n",
              "NOX      0\n",
              "NO       0\n",
              "dtype: int64"
            ]
          },
          "metadata": {
            "tags": []
          },
          "execution_count": 10
        }
      ]
    },
    {
      "cell_type": "code",
      "metadata": {
        "colab_type": "code",
        "id": "mlnPbUXIiMRa",
        "colab": {
          "base_uri": "https://localhost:8080/",
          "height": 195
        },
        "outputId": "b33313ed-8831-40b9-9326-2d77b0ec67b6"
      },
      "source": [
        "## So2 indeksi (si) hesaplama fonksiyonu\n",
        "#Hava kalitesi indeksini hesaplamak için havadaki her bir maddenin indeksini hesapladım\n",
        "#Aralıkları internetten aldım\n",
        "def calculate_si(so2):\n",
        "    si=0\n",
        "    if (so2<=40):\n",
        "     si= so2*(50/40)\n",
        "    if (so2>40 and so2<=80):\n",
        "     si= 50+(so2-40)*(50/40)\n",
        "    if (so2>80 and so2<=380):\n",
        "     si= 100+(so2-80)*(100/300)\n",
        "    if (so2>380 and so2<=800):\n",
        "     si= 200+(so2-380)*(100/800)\n",
        "    if (so2>800 and so2<=1600):\n",
        "     si= 300+(so2-800)*(100/800)\n",
        "    if (so2>1600):\n",
        "     si= 400+(so2-1600)*(100/800)\n",
        "    return si\n",
        "data['si']=data['SO2'].apply(calculate_si)\n",
        "df= data[['SO2','si']]\n",
        "df.head()"
      ],
      "execution_count": null,
      "outputs": [
        {
          "output_type": "execute_result",
          "data": {
            "text/html": [
              "<div>\n",
              "<style scoped>\n",
              "    .dataframe tbody tr th:only-of-type {\n",
              "        vertical-align: middle;\n",
              "    }\n",
              "\n",
              "    .dataframe tbody tr th {\n",
              "        vertical-align: top;\n",
              "    }\n",
              "\n",
              "    .dataframe thead th {\n",
              "        text-align: right;\n",
              "    }\n",
              "</style>\n",
              "<table border=\"1\" class=\"dataframe\">\n",
              "  <thead>\n",
              "    <tr style=\"text-align: right;\">\n",
              "      <th></th>\n",
              "      <th>SO2</th>\n",
              "      <th>si</th>\n",
              "    </tr>\n",
              "  </thead>\n",
              "  <tbody>\n",
              "    <tr>\n",
              "      <th>0</th>\n",
              "      <td>4.629833</td>\n",
              "      <td>5.787291</td>\n",
              "    </tr>\n",
              "    <tr>\n",
              "      <th>1</th>\n",
              "      <td>5.933857</td>\n",
              "      <td>7.417321</td>\n",
              "    </tr>\n",
              "    <tr>\n",
              "      <th>2</th>\n",
              "      <td>6.401385</td>\n",
              "      <td>8.001732</td>\n",
              "    </tr>\n",
              "    <tr>\n",
              "      <th>3</th>\n",
              "      <td>6.913496</td>\n",
              "      <td>8.641870</td>\n",
              "    </tr>\n",
              "    <tr>\n",
              "      <th>4</th>\n",
              "      <td>6.343282</td>\n",
              "      <td>7.929103</td>\n",
              "    </tr>\n",
              "  </tbody>\n",
              "</table>\n",
              "</div>"
            ],
            "text/plain": [
              "        SO2        si\n",
              "0  4.629833  5.787291\n",
              "1  5.933857  7.417321\n",
              "2  6.401385  8.001732\n",
              "3  6.913496  8.641870\n",
              "4  6.343282  7.929103"
            ]
          },
          "metadata": {
            "tags": []
          },
          "execution_count": 11
        }
      ]
    },
    {
      "cell_type": "code",
      "metadata": {
        "colab_type": "code",
        "id": "6aE56SvIiMQB",
        "colab": {
          "base_uri": "https://localhost:8080/",
          "height": 195
        },
        "outputId": "09281485-4ed8-4780-ea9c-88dcfc6a97e9"
      },
      "source": [
        "#No2 indeksi (ni) hesaplama fonksiyonu\n",
        "def calculate_ni(no2):\n",
        "    ni=0\n",
        "    if(no2<=40):\n",
        "     ni= no2*50/40\n",
        "    elif(no2>40 and no2<=80):\n",
        "     ni= 50+(no2-14)*(50/40)\n",
        "    elif(no2>80 and no2<=180):\n",
        "     ni= 100+(no2-80)*(100/100)\n",
        "    elif(no2>180 and no2<=280):\n",
        "     ni= 200+(no2-180)*(100/100)\n",
        "    elif(no2>280 and no2<=400):\n",
        "     ni= 300+(no2-280)*(100/120)\n",
        "    else:\n",
        "     ni= 400+(no2-400)*(100/120)\n",
        "    return ni\n",
        "data['ni']=data['NO2'].apply(calculate_ni)\n",
        "df= data[['NO2','ni']]\n",
        "df.head()"
      ],
      "execution_count": null,
      "outputs": [
        {
          "output_type": "execute_result",
          "data": {
            "text/html": [
              "<div>\n",
              "<style scoped>\n",
              "    .dataframe tbody tr th:only-of-type {\n",
              "        vertical-align: middle;\n",
              "    }\n",
              "\n",
              "    .dataframe tbody tr th {\n",
              "        vertical-align: top;\n",
              "    }\n",
              "\n",
              "    .dataframe thead th {\n",
              "        text-align: right;\n",
              "    }\n",
              "</style>\n",
              "<table border=\"1\" class=\"dataframe\">\n",
              "  <thead>\n",
              "    <tr style=\"text-align: right;\">\n",
              "      <th></th>\n",
              "      <th>NO2</th>\n",
              "      <th>ni</th>\n",
              "    </tr>\n",
              "  </thead>\n",
              "  <tbody>\n",
              "    <tr>\n",
              "      <th>0</th>\n",
              "      <td>31.849611</td>\n",
              "      <td>39.812014</td>\n",
              "    </tr>\n",
              "    <tr>\n",
              "      <th>1</th>\n",
              "      <td>47.038542</td>\n",
              "      <td>91.298177</td>\n",
              "    </tr>\n",
              "    <tr>\n",
              "      <th>2</th>\n",
              "      <td>51.612556</td>\n",
              "      <td>97.015695</td>\n",
              "    </tr>\n",
              "    <tr>\n",
              "      <th>3</th>\n",
              "      <td>48.410507</td>\n",
              "      <td>93.013134</td>\n",
              "    </tr>\n",
              "    <tr>\n",
              "      <th>4</th>\n",
              "      <td>47.683113</td>\n",
              "      <td>92.103891</td>\n",
              "    </tr>\n",
              "  </tbody>\n",
              "</table>\n",
              "</div>"
            ],
            "text/plain": [
              "         NO2         ni\n",
              "0  31.849611  39.812014\n",
              "1  47.038542  91.298177\n",
              "2  51.612556  97.015695\n",
              "3  48.410507  93.013134\n",
              "4  47.683113  92.103891"
            ]
          },
          "metadata": {
            "tags": []
          },
          "execution_count": 13
        }
      ]
    },
    {
      "cell_type": "code",
      "metadata": {
        "colab_type": "code",
        "id": "UvZ3Fwo4iMM7",
        "colab": {
          "base_uri": "https://localhost:8080/",
          "height": 195
        },
        "outputId": "2cca2149-c881-4e75-884f-e5315b0443f1"
      },
      "source": [
        "#PM10 indeksi (rpi) hesaplama fonksiyonu\n",
        "def calculate_(rspm):\n",
        "    rpi=0\n",
        "    if(rpi<=30):\n",
        "     rpi=rpi*50/30\n",
        "    elif(rpi>30 and rpi<=60):\n",
        "     rpi=50+(rpi-30)*50/30\n",
        "    elif(rpi>60 and rpi<=90):\n",
        "     rpi=100+(rpi-60)*100/30\n",
        "    elif(rpi>90 and rpi<=120):\n",
        "     rpi=200+(rpi-90)*100/30\n",
        "    elif(rpi>120 and rpi<=250):\n",
        "     rpi=300+(rpi-120)*(100/130)\n",
        "    else:\n",
        "     rpi=400+(rpi-250)*(100/130)\n",
        "    return rpi\n",
        "data['rpi']=data['PM10'].apply(calculate_si)\n",
        "df= data[['PM10','rpi']]\n",
        "df.head()\n"
      ],
      "execution_count": null,
      "outputs": [
        {
          "output_type": "execute_result",
          "data": {
            "text/html": [
              "<div>\n",
              "<style scoped>\n",
              "    .dataframe tbody tr th:only-of-type {\n",
              "        vertical-align: middle;\n",
              "    }\n",
              "\n",
              "    .dataframe tbody tr th {\n",
              "        vertical-align: top;\n",
              "    }\n",
              "\n",
              "    .dataframe thead th {\n",
              "        text-align: right;\n",
              "    }\n",
              "</style>\n",
              "<table border=\"1\" class=\"dataframe\">\n",
              "  <thead>\n",
              "    <tr style=\"text-align: right;\">\n",
              "      <th></th>\n",
              "      <th>PM10</th>\n",
              "      <th>rpi</th>\n",
              "    </tr>\n",
              "  </thead>\n",
              "  <tbody>\n",
              "    <tr>\n",
              "      <th>0</th>\n",
              "      <td>21.417008</td>\n",
              "      <td>26.771260</td>\n",
              "    </tr>\n",
              "    <tr>\n",
              "      <th>1</th>\n",
              "      <td>20.477077</td>\n",
              "      <td>25.596346</td>\n",
              "    </tr>\n",
              "    <tr>\n",
              "      <th>2</th>\n",
              "      <td>38.253211</td>\n",
              "      <td>47.816514</td>\n",
              "    </tr>\n",
              "    <tr>\n",
              "      <th>3</th>\n",
              "      <td>35.534459</td>\n",
              "      <td>44.418074</td>\n",
              "    </tr>\n",
              "    <tr>\n",
              "      <th>4</th>\n",
              "      <td>39.670834</td>\n",
              "      <td>49.588542</td>\n",
              "    </tr>\n",
              "  </tbody>\n",
              "</table>\n",
              "</div>"
            ],
            "text/plain": [
              "        PM10        rpi\n",
              "0  21.417008  26.771260\n",
              "1  20.477077  25.596346\n",
              "2  38.253211  47.816514\n",
              "3  35.534459  44.418074\n",
              "4  39.670834  49.588542"
            ]
          },
          "metadata": {
            "tags": []
          },
          "execution_count": 14
        }
      ]
    },
    {
      "cell_type": "code",
      "metadata": {
        "colab_type": "code",
        "id": "nQjENknuiML4",
        "colab": {
          "base_uri": "https://localhost:8080/",
          "height": 195
        },
        "outputId": "e6861bcc-7037-4e19-ac94-dc87811e343d"
      },
      "source": [
        "#NO indeksi (spi) hesaplama fonksiyonu\n",
        "def calculate_spi(spm):\n",
        "    spi=0\n",
        "    if(spm<=50):\n",
        "     spi=spm\n",
        "    if(spm<50 and spm<=100):\n",
        "     spi=spm\n",
        "    elif(spm>100 and spm<=250):\n",
        "     spi= 100+(spm-100)*(100/150)\n",
        "    elif(spm>250 and spm<=350):\n",
        "     spi=200+(spm-250)\n",
        "    elif(spm>350 and spm<=450):\n",
        "     spi=300+(spm-350)*(100/80)\n",
        "    else:\n",
        "     spi=400+(spm-430)*(100/80)\n",
        "    return spi\n",
        "data['spi']=data['NO'].apply(calculate_spi)\n",
        "df= data[['NO','spi']]\n",
        "df.head()"
      ],
      "execution_count": null,
      "outputs": [
        {
          "output_type": "execute_result",
          "data": {
            "text/html": [
              "<div>\n",
              "<style scoped>\n",
              "    .dataframe tbody tr th:only-of-type {\n",
              "        vertical-align: middle;\n",
              "    }\n",
              "\n",
              "    .dataframe tbody tr th {\n",
              "        vertical-align: top;\n",
              "    }\n",
              "\n",
              "    .dataframe thead th {\n",
              "        text-align: right;\n",
              "    }\n",
              "</style>\n",
              "<table border=\"1\" class=\"dataframe\">\n",
              "  <thead>\n",
              "    <tr style=\"text-align: right;\">\n",
              "      <th></th>\n",
              "      <th>NO</th>\n",
              "      <th>spi</th>\n",
              "    </tr>\n",
              "  </thead>\n",
              "  <tbody>\n",
              "    <tr>\n",
              "      <th>0</th>\n",
              "      <td>15.095931</td>\n",
              "      <td>15.095931</td>\n",
              "    </tr>\n",
              "    <tr>\n",
              "      <th>1</th>\n",
              "      <td>30.495416</td>\n",
              "      <td>30.495416</td>\n",
              "    </tr>\n",
              "    <tr>\n",
              "      <th>2</th>\n",
              "      <td>47.332137</td>\n",
              "      <td>47.332137</td>\n",
              "    </tr>\n",
              "    <tr>\n",
              "      <th>3</th>\n",
              "      <td>34.253095</td>\n",
              "      <td>34.253095</td>\n",
              "    </tr>\n",
              "    <tr>\n",
              "      <th>4</th>\n",
              "      <td>43.870343</td>\n",
              "      <td>43.870343</td>\n",
              "    </tr>\n",
              "  </tbody>\n",
              "</table>\n",
              "</div>"
            ],
            "text/plain": [
              "          NO        spi\n",
              "0  15.095931  15.095931\n",
              "1  30.495416  30.495416\n",
              "2  47.332137  47.332137\n",
              "3  34.253095  34.253095\n",
              "4  43.870343  43.870343"
            ]
          },
          "metadata": {
            "tags": []
          },
          "execution_count": 15
        }
      ]
    },
    {
      "cell_type": "code",
      "metadata": {
        "colab_type": "code",
        "id": "nzoFlBGoiMKY",
        "colab": {
          "base_uri": "https://localhost:8080/",
          "height": 140
        },
        "outputId": "4afe02b4-26cb-4266-eaaa-a374a8e83a86"
      },
      "source": [
        "#Her veri değerinin hava kalitesi indeksini (AQI) hesaplama fonksiyonu\n",
        "def calculate_aqi(si,ni,spi,rpi):\n",
        "    aqi=0\n",
        "    if(si>ni and si>spi and si>rpi):\n",
        "     aqi=si\n",
        "    if(spi>si and spi>ni and spi>rpi):\n",
        "     aqi=spi\n",
        "    if(ni>si and ni>spi and ni>rpi):\n",
        "     aqi=ni\n",
        "    if(rpi>si and rpi>ni and rpi>spi):\n",
        "     aqi=rpi\n",
        "    return aqi\n",
        "data['AQI']=data.apply(lambda x:calculate_aqi(x['si'],x['ni'],x['spi'],x['rpi']),axis=1)\n",
        "\n",
        "data = data[['Tarih', 'si', 'ni', 'spi', 'rpi', 'AQI']]\n",
        "data.dtypes\n",
        " "
      ],
      "execution_count": null,
      "outputs": [
        {
          "output_type": "execute_result",
          "data": {
            "text/plain": [
              "Tarih     object\n",
              "si       float64\n",
              "ni       float64\n",
              "spi      float64\n",
              "rpi      float64\n",
              "AQI      float64\n",
              "dtype: object"
            ]
          },
          "metadata": {
            "tags": []
          },
          "execution_count": 16
        }
      ]
    },
    {
      "cell_type": "code",
      "metadata": {
        "id": "Knrv9jbzyN4F",
        "colab_type": "code",
        "colab": {
          "base_uri": "https://localhost:8080/",
          "height": 195
        },
        "outputId": "09126ca5-f2ee-4d88-f269-621934feffd4"
      },
      "source": [
        "data_tarihsiz = data.select_dtypes(include=['float64'])\n",
        "data_tarihsiz.head()"
      ],
      "execution_count": null,
      "outputs": [
        {
          "output_type": "execute_result",
          "data": {
            "text/html": [
              "<div>\n",
              "<style scoped>\n",
              "    .dataframe tbody tr th:only-of-type {\n",
              "        vertical-align: middle;\n",
              "    }\n",
              "\n",
              "    .dataframe tbody tr th {\n",
              "        vertical-align: top;\n",
              "    }\n",
              "\n",
              "    .dataframe thead th {\n",
              "        text-align: right;\n",
              "    }\n",
              "</style>\n",
              "<table border=\"1\" class=\"dataframe\">\n",
              "  <thead>\n",
              "    <tr style=\"text-align: right;\">\n",
              "      <th></th>\n",
              "      <th>si</th>\n",
              "      <th>ni</th>\n",
              "      <th>spi</th>\n",
              "      <th>rpi</th>\n",
              "      <th>AQI</th>\n",
              "    </tr>\n",
              "  </thead>\n",
              "  <tbody>\n",
              "    <tr>\n",
              "      <th>0</th>\n",
              "      <td>5.787291</td>\n",
              "      <td>39.812014</td>\n",
              "      <td>15.095931</td>\n",
              "      <td>26.771260</td>\n",
              "      <td>39.812014</td>\n",
              "    </tr>\n",
              "    <tr>\n",
              "      <th>1</th>\n",
              "      <td>7.417321</td>\n",
              "      <td>91.298177</td>\n",
              "      <td>30.495416</td>\n",
              "      <td>25.596346</td>\n",
              "      <td>91.298177</td>\n",
              "    </tr>\n",
              "    <tr>\n",
              "      <th>2</th>\n",
              "      <td>8.001732</td>\n",
              "      <td>97.015695</td>\n",
              "      <td>47.332137</td>\n",
              "      <td>47.816514</td>\n",
              "      <td>97.015695</td>\n",
              "    </tr>\n",
              "    <tr>\n",
              "      <th>3</th>\n",
              "      <td>8.641870</td>\n",
              "      <td>93.013134</td>\n",
              "      <td>34.253095</td>\n",
              "      <td>44.418074</td>\n",
              "      <td>93.013134</td>\n",
              "    </tr>\n",
              "    <tr>\n",
              "      <th>4</th>\n",
              "      <td>7.929103</td>\n",
              "      <td>92.103891</td>\n",
              "      <td>43.870343</td>\n",
              "      <td>49.588542</td>\n",
              "      <td>92.103891</td>\n",
              "    </tr>\n",
              "  </tbody>\n",
              "</table>\n",
              "</div>"
            ],
            "text/plain": [
              "         si         ni        spi        rpi        AQI\n",
              "0  5.787291  39.812014  15.095931  26.771260  39.812014\n",
              "1  7.417321  91.298177  30.495416  25.596346  91.298177\n",
              "2  8.001732  97.015695  47.332137  47.816514  97.015695\n",
              "3  8.641870  93.013134  34.253095  44.418074  93.013134\n",
              "4  7.929103  92.103891  43.870343  49.588542  92.103891"
            ]
          },
          "metadata": {
            "tags": []
          },
          "execution_count": 17
        }
      ]
    },
    {
      "cell_type": "code",
      "metadata": {
        "id": "OlhdKYx4zpFB",
        "colab_type": "code",
        "colab": {
          "base_uri": "https://localhost:8080/",
          "height": 195
        },
        "outputId": "2277f215-d309-4f7c-8071-f2548d3e7031"
      },
      "source": [
        "data_tarihsiz.describe().T"
      ],
      "execution_count": null,
      "outputs": [
        {
          "output_type": "execute_result",
          "data": {
            "text/html": [
              "<div>\n",
              "<style scoped>\n",
              "    .dataframe tbody tr th:only-of-type {\n",
              "        vertical-align: middle;\n",
              "    }\n",
              "\n",
              "    .dataframe tbody tr th {\n",
              "        vertical-align: top;\n",
              "    }\n",
              "\n",
              "    .dataframe thead th {\n",
              "        text-align: right;\n",
              "    }\n",
              "</style>\n",
              "<table border=\"1\" class=\"dataframe\">\n",
              "  <thead>\n",
              "    <tr style=\"text-align: right;\">\n",
              "      <th></th>\n",
              "      <th>count</th>\n",
              "      <th>mean</th>\n",
              "      <th>std</th>\n",
              "      <th>min</th>\n",
              "      <th>25%</th>\n",
              "      <th>50%</th>\n",
              "      <th>75%</th>\n",
              "      <th>max</th>\n",
              "    </tr>\n",
              "  </thead>\n",
              "  <tbody>\n",
              "    <tr>\n",
              "      <th>si</th>\n",
              "      <td>136.0</td>\n",
              "      <td>7.172551</td>\n",
              "      <td>4.506609</td>\n",
              "      <td>1.391855</td>\n",
              "      <td>3.626184</td>\n",
              "      <td>6.498902</td>\n",
              "      <td>9.311821</td>\n",
              "      <td>23.029942</td>\n",
              "    </tr>\n",
              "    <tr>\n",
              "      <th>ni</th>\n",
              "      <td>109.0</td>\n",
              "      <td>82.112681</td>\n",
              "      <td>33.107680</td>\n",
              "      <td>18.402775</td>\n",
              "      <td>43.153964</td>\n",
              "      <td>91.298177</td>\n",
              "      <td>108.963090</td>\n",
              "      <td>132.399083</td>\n",
              "    </tr>\n",
              "    <tr>\n",
              "      <th>spi</th>\n",
              "      <td>109.0</td>\n",
              "      <td>22.317787</td>\n",
              "      <td>54.688023</td>\n",
              "      <td>-74.104776</td>\n",
              "      <td>3.576287</td>\n",
              "      <td>11.154170</td>\n",
              "      <td>33.369160</td>\n",
              "      <td>188.443284</td>\n",
              "    </tr>\n",
              "    <tr>\n",
              "      <th>rpi</th>\n",
              "      <td>136.0</td>\n",
              "      <td>53.057102</td>\n",
              "      <td>26.976914</td>\n",
              "      <td>12.447801</td>\n",
              "      <td>31.393403</td>\n",
              "      <td>46.481663</td>\n",
              "      <td>69.593203</td>\n",
              "      <td>119.884332</td>\n",
              "    </tr>\n",
              "    <tr>\n",
              "      <th>AQI</th>\n",
              "      <td>136.0</td>\n",
              "      <td>68.568407</td>\n",
              "      <td>47.181461</td>\n",
              "      <td>0.000000</td>\n",
              "      <td>34.634519</td>\n",
              "      <td>84.362302</td>\n",
              "      <td>107.956724</td>\n",
              "      <td>188.443284</td>\n",
              "    </tr>\n",
              "  </tbody>\n",
              "</table>\n",
              "</div>"
            ],
            "text/plain": [
              "     count       mean        std  ...        50%         75%         max\n",
              "si   136.0   7.172551   4.506609  ...   6.498902    9.311821   23.029942\n",
              "ni   109.0  82.112681  33.107680  ...  91.298177  108.963090  132.399083\n",
              "spi  109.0  22.317787  54.688023  ...  11.154170   33.369160  188.443284\n",
              "rpi  136.0  53.057102  26.976914  ...  46.481663   69.593203  119.884332\n",
              "AQI  136.0  68.568407  47.181461  ...  84.362302  107.956724  188.443284\n",
              "\n",
              "[5 rows x 8 columns]"
            ]
          },
          "metadata": {
            "tags": []
          },
          "execution_count": 19
        }
      ]
    },
    {
      "cell_type": "code",
      "metadata": {
        "id": "3XvUfCp4yCMj",
        "colab_type": "code",
        "colab": {
          "base_uri": "https://localhost:8080/",
          "height": 195
        },
        "outputId": "915e5d32-0f5a-431f-b1fe-35c722c2d1ce"
      },
      "source": [
        "data_tarih = data.select_dtypes(include=['object'])\n",
        "data_tarih.head()\n"
      ],
      "execution_count": null,
      "outputs": [
        {
          "output_type": "execute_result",
          "data": {
            "text/html": [
              "<div>\n",
              "<style scoped>\n",
              "    .dataframe tbody tr th:only-of-type {\n",
              "        vertical-align: middle;\n",
              "    }\n",
              "\n",
              "    .dataframe tbody tr th {\n",
              "        vertical-align: top;\n",
              "    }\n",
              "\n",
              "    .dataframe thead th {\n",
              "        text-align: right;\n",
              "    }\n",
              "</style>\n",
              "<table border=\"1\" class=\"dataframe\">\n",
              "  <thead>\n",
              "    <tr style=\"text-align: right;\">\n",
              "      <th></th>\n",
              "      <th>Tarih</th>\n",
              "    </tr>\n",
              "  </thead>\n",
              "  <tbody>\n",
              "    <tr>\n",
              "      <th>0</th>\n",
              "      <td>1/1/2020</td>\n",
              "    </tr>\n",
              "    <tr>\n",
              "      <th>1</th>\n",
              "      <td>1/2/2020</td>\n",
              "    </tr>\n",
              "    <tr>\n",
              "      <th>2</th>\n",
              "      <td>1/3/2020</td>\n",
              "    </tr>\n",
              "    <tr>\n",
              "      <th>3</th>\n",
              "      <td>1/4/2020</td>\n",
              "    </tr>\n",
              "    <tr>\n",
              "      <th>4</th>\n",
              "      <td>1/5/2020</td>\n",
              "    </tr>\n",
              "  </tbody>\n",
              "</table>\n",
              "</div>"
            ],
            "text/plain": [
              "      Tarih\n",
              "0  1/1/2020\n",
              "1  1/2/2020\n",
              "2  1/3/2020\n",
              "3  1/4/2020\n",
              "4  1/5/2020"
            ]
          },
          "metadata": {
            "tags": []
          },
          "execution_count": 20
        }
      ]
    },
    {
      "cell_type": "code",
      "metadata": {
        "id": "t29yfGwvzvhh",
        "colab_type": "code",
        "colab": {
          "base_uri": "https://localhost:8080/",
          "height": 52
        },
        "outputId": "cbf2e66b-d4d8-43a9-d466-7d46684ede8f"
      },
      "source": [
        "from fancyimpute import KNN #KNN ile boş veri doldurma\n",
        "var_tarih = list(data_tarih)\n",
        "var_maddeler = list(data_tarihsiz)\n",
        "knn_imp = KNN(k=7).fit_transform(data_tarihsiz);#knn ile boş değerleri doldurdum"
      ],
      "execution_count": null,
      "outputs": [
        {
          "output_type": "stream",
          "text": [
            "Imputing row 1/136 with 0 missing, elapsed time: 0.009\n",
            "Imputing row 101/136 with 0 missing, elapsed time: 0.010\n"
          ],
          "name": "stdout"
        }
      ]
    },
    {
      "cell_type": "code",
      "metadata": {
        "id": "OSko2dpPz3yj",
        "colab_type": "code",
        "colab": {
          "base_uri": "https://localhost:8080/",
          "height": 195
        },
        "outputId": "a95c9280-10cb-4e8f-ed93-45fa063942c9"
      },
      "source": [
        "df = pd.DataFrame(knn_imp)\n",
        "df.head()"
      ],
      "execution_count": null,
      "outputs": [
        {
          "output_type": "execute_result",
          "data": {
            "text/html": [
              "<div>\n",
              "<style scoped>\n",
              "    .dataframe tbody tr th:only-of-type {\n",
              "        vertical-align: middle;\n",
              "    }\n",
              "\n",
              "    .dataframe tbody tr th {\n",
              "        vertical-align: top;\n",
              "    }\n",
              "\n",
              "    .dataframe thead th {\n",
              "        text-align: right;\n",
              "    }\n",
              "</style>\n",
              "<table border=\"1\" class=\"dataframe\">\n",
              "  <thead>\n",
              "    <tr style=\"text-align: right;\">\n",
              "      <th></th>\n",
              "      <th>0</th>\n",
              "      <th>1</th>\n",
              "      <th>2</th>\n",
              "      <th>3</th>\n",
              "      <th>4</th>\n",
              "    </tr>\n",
              "  </thead>\n",
              "  <tbody>\n",
              "    <tr>\n",
              "      <th>0</th>\n",
              "      <td>5.787291</td>\n",
              "      <td>39.812014</td>\n",
              "      <td>15.095931</td>\n",
              "      <td>26.771260</td>\n",
              "      <td>39.812014</td>\n",
              "    </tr>\n",
              "    <tr>\n",
              "      <th>1</th>\n",
              "      <td>7.417321</td>\n",
              "      <td>91.298177</td>\n",
              "      <td>30.495416</td>\n",
              "      <td>25.596346</td>\n",
              "      <td>91.298177</td>\n",
              "    </tr>\n",
              "    <tr>\n",
              "      <th>2</th>\n",
              "      <td>8.001732</td>\n",
              "      <td>97.015695</td>\n",
              "      <td>47.332137</td>\n",
              "      <td>47.816514</td>\n",
              "      <td>97.015695</td>\n",
              "    </tr>\n",
              "    <tr>\n",
              "      <th>3</th>\n",
              "      <td>8.641870</td>\n",
              "      <td>93.013134</td>\n",
              "      <td>34.253095</td>\n",
              "      <td>44.418074</td>\n",
              "      <td>93.013134</td>\n",
              "    </tr>\n",
              "    <tr>\n",
              "      <th>4</th>\n",
              "      <td>7.929103</td>\n",
              "      <td>92.103891</td>\n",
              "      <td>43.870343</td>\n",
              "      <td>49.588542</td>\n",
              "      <td>92.103891</td>\n",
              "    </tr>\n",
              "  </tbody>\n",
              "</table>\n",
              "</div>"
            ],
            "text/plain": [
              "          0          1          2          3          4\n",
              "0  5.787291  39.812014  15.095931  26.771260  39.812014\n",
              "1  7.417321  91.298177  30.495416  25.596346  91.298177\n",
              "2  8.001732  97.015695  47.332137  47.816514  97.015695\n",
              "3  8.641870  93.013134  34.253095  44.418074  93.013134\n",
              "4  7.929103  92.103891  43.870343  49.588542  92.103891"
            ]
          },
          "metadata": {
            "tags": []
          },
          "execution_count": 22
        }
      ]
    },
    {
      "cell_type": "code",
      "metadata": {
        "id": "wEsyo8Xkz_Xo",
        "colab_type": "code",
        "colab": {
          "base_uri": "https://localhost:8080/",
          "height": 195
        },
        "outputId": "1a1a8481-90df-4569-88b9-541960d49d5d"
      },
      "source": [
        "df.columns = var_maddeler\n",
        "df = pd.concat([data_tarih, df], axis=1, sort=False)\n",
        "df.head()"
      ],
      "execution_count": null,
      "outputs": [
        {
          "output_type": "execute_result",
          "data": {
            "text/html": [
              "<div>\n",
              "<style scoped>\n",
              "    .dataframe tbody tr th:only-of-type {\n",
              "        vertical-align: middle;\n",
              "    }\n",
              "\n",
              "    .dataframe tbody tr th {\n",
              "        vertical-align: top;\n",
              "    }\n",
              "\n",
              "    .dataframe thead th {\n",
              "        text-align: right;\n",
              "    }\n",
              "</style>\n",
              "<table border=\"1\" class=\"dataframe\">\n",
              "  <thead>\n",
              "    <tr style=\"text-align: right;\">\n",
              "      <th></th>\n",
              "      <th>Tarih</th>\n",
              "      <th>si</th>\n",
              "      <th>ni</th>\n",
              "      <th>spi</th>\n",
              "      <th>rpi</th>\n",
              "      <th>AQI</th>\n",
              "    </tr>\n",
              "  </thead>\n",
              "  <tbody>\n",
              "    <tr>\n",
              "      <th>0</th>\n",
              "      <td>1/1/2020</td>\n",
              "      <td>5.787291</td>\n",
              "      <td>39.812014</td>\n",
              "      <td>15.095931</td>\n",
              "      <td>26.771260</td>\n",
              "      <td>39.812014</td>\n",
              "    </tr>\n",
              "    <tr>\n",
              "      <th>1</th>\n",
              "      <td>1/2/2020</td>\n",
              "      <td>7.417321</td>\n",
              "      <td>91.298177</td>\n",
              "      <td>30.495416</td>\n",
              "      <td>25.596346</td>\n",
              "      <td>91.298177</td>\n",
              "    </tr>\n",
              "    <tr>\n",
              "      <th>2</th>\n",
              "      <td>1/3/2020</td>\n",
              "      <td>8.001732</td>\n",
              "      <td>97.015695</td>\n",
              "      <td>47.332137</td>\n",
              "      <td>47.816514</td>\n",
              "      <td>97.015695</td>\n",
              "    </tr>\n",
              "    <tr>\n",
              "      <th>3</th>\n",
              "      <td>1/4/2020</td>\n",
              "      <td>8.641870</td>\n",
              "      <td>93.013134</td>\n",
              "      <td>34.253095</td>\n",
              "      <td>44.418074</td>\n",
              "      <td>93.013134</td>\n",
              "    </tr>\n",
              "    <tr>\n",
              "      <th>4</th>\n",
              "      <td>1/5/2020</td>\n",
              "      <td>7.929103</td>\n",
              "      <td>92.103891</td>\n",
              "      <td>43.870343</td>\n",
              "      <td>49.588542</td>\n",
              "      <td>92.103891</td>\n",
              "    </tr>\n",
              "  </tbody>\n",
              "</table>\n",
              "</div>"
            ],
            "text/plain": [
              "      Tarih        si         ni        spi        rpi        AQI\n",
              "0  1/1/2020  5.787291  39.812014  15.095931  26.771260  39.812014\n",
              "1  1/2/2020  7.417321  91.298177  30.495416  25.596346  91.298177\n",
              "2  1/3/2020  8.001732  97.015695  47.332137  47.816514  97.015695\n",
              "3  1/4/2020  8.641870  93.013134  34.253095  44.418074  93.013134\n",
              "4  1/5/2020  7.929103  92.103891  43.870343  49.588542  92.103891"
            ]
          },
          "metadata": {
            "tags": []
          },
          "execution_count": 23
        }
      ]
    },
    {
      "cell_type": "code",
      "metadata": {
        "colab_type": "code",
        "id": "WGNpHVENiMF8",
        "colab": {
          "base_uri": "https://localhost:8080/",
          "height": 140
        },
        "outputId": "db852753-0648-4a78-be6b-01fd151d7678"
      },
      "source": [
        "df.isnull().sum()"
      ],
      "execution_count": null,
      "outputs": [
        {
          "output_type": "execute_result",
          "data": {
            "text/plain": [
              "Tarih    0\n",
              "si       0\n",
              "ni       0\n",
              "spi      0\n",
              "rpi      0\n",
              "AQI      0\n",
              "dtype: int64"
            ]
          },
          "metadata": {
            "tags": []
          },
          "execution_count": 24
        }
      ]
    },
    {
      "cell_type": "code",
      "metadata": {
        "colab_type": "code",
        "id": "cH6Kbm4siMED",
        "colab": {}
      },
      "source": [
        "#Nan değerleri silme işlemi\n",
        "df = df[:-26]\n",
        "dataset_test = df\n"
      ],
      "execution_count": null,
      "outputs": []
    },
    {
      "cell_type": "code",
      "metadata": {
        "id": "HNupOrtlIVtg",
        "colab_type": "code",
        "colab": {
          "base_uri": "https://localhost:8080/",
          "height": 140
        },
        "outputId": "13bc3f25-c11d-4523-c72b-df74f84b3cd0"
      },
      "source": [
        "dataset_test.dtypes"
      ],
      "execution_count": null,
      "outputs": [
        {
          "output_type": "execute_result",
          "data": {
            "text/plain": [
              "Tarih     object\n",
              "si       float64\n",
              "ni       float64\n",
              "spi      float64\n",
              "rpi      float64\n",
              "AQI      float64\n",
              "dtype: object"
            ]
          },
          "metadata": {
            "tags": []
          },
          "execution_count": 28
        }
      ]
    },
    {
      "cell_type": "code",
      "metadata": {
        "colab_type": "code",
        "id": "zGqCbBBSiL_K",
        "colab": {}
      },
      "source": [
        "df = df[['si', 'ni', 'spi', 'rpi', 'AQI']]\n",
        "#Hedef sütun\n",
        "y = df['AQI']\n",
        "X = df.drop(['AQI'], axis=1).astype('float64')\n",
        "X_train, X_test, y_train, y_test = train_test_split(X, y, \n",
        "                                                    test_size=0.25, \n",
        "                                                    random_state=42)"
      ],
      "execution_count": null,
      "outputs": []
    },
    {
      "cell_type": "code",
      "metadata": {
        "colab_type": "code",
        "id": "KOrvct3tiL8g",
        "colab": {
          "base_uri": "https://localhost:8080/",
          "height": 140
        },
        "outputId": "525beb8a-472c-4ca6-965c-0310c6e09dd5"
      },
      "source": [
        "from sklearn.ensemble import RandomForestRegressor\n",
        "from sklearn.metrics import mean_squared_error\n",
        "rf_model = RandomForestRegressor(random_state = 42)\n",
        "rf_model.fit(X_train, y_train)"
      ],
      "execution_count": null,
      "outputs": [
        {
          "output_type": "execute_result",
          "data": {
            "text/plain": [
              "RandomForestRegressor(bootstrap=True, ccp_alpha=0.0, criterion='mse',\n",
              "                      max_depth=None, max_features='auto', max_leaf_nodes=None,\n",
              "                      max_samples=None, min_impurity_decrease=0.0,\n",
              "                      min_impurity_split=None, min_samples_leaf=1,\n",
              "                      min_samples_split=2, min_weight_fraction_leaf=0.0,\n",
              "                      n_estimators=100, n_jobs=None, oob_score=False,\n",
              "                      random_state=42, verbose=0, warm_start=False)"
            ]
          },
          "metadata": {
            "tags": []
          },
          "execution_count": 31
        }
      ]
    },
    {
      "cell_type": "code",
      "metadata": {
        "colab_type": "code",
        "id": "3lzRpdIiiL63",
        "colab": {}
      },
      "source": [
        "#Yarısını test yarısını eğitim olarak ayırdım\n",
        "rf_model.predict(X_test)[0:5]\n",
        "y_pred = rf_model.predict(X_test)"
      ],
      "execution_count": null,
      "outputs": []
    },
    {
      "cell_type": "code",
      "metadata": {
        "colab_type": "code",
        "id": "fPPzJWgiiL4p",
        "colab": {
          "base_uri": "https://localhost:8080/",
          "height": 34
        },
        "outputId": "7c7b7a4b-6886-4ef1-b521-f80d9a56480c"
      },
      "source": [
        "np.sqrt(mean_squared_error(y_test, y_pred))"
      ],
      "execution_count": null,
      "outputs": [
        {
          "output_type": "execute_result",
          "data": {
            "text/plain": [
              "3.9427964881284554"
            ]
          },
          "metadata": {
            "tags": []
          },
          "execution_count": 33
        }
      ]
    },
    {
      "cell_type": "code",
      "metadata": {
        "colab_type": "code",
        "id": "lBhwbIspiLyg",
        "colab": {}
      },
      "source": [
        "# Modelin oluşturulamasında en iyi parametreleri bulmak için modeli tuning işlemine tabi tuttum.\n",
        "rf_params = {'max_depth': list(range(1,10)),\n",
        "            'max_features': [3,5,10,15],\n",
        "            'n_estimators' : [100, 200, 500, 1000, 2000]}\n",
        "            #500 ve 1000 bilimsel anlamda iyi sayılarmış rf için"
      ],
      "execution_count": null,
      "outputs": []
    },
    {
      "cell_type": "code",
      "metadata": {
        "colab_type": "code",
        "id": "C8SZ-SlLiLva",
        "colab": {}
      },
      "source": [
        "rf_model = RandomForestRegressor(random_state = 42)"
      ],
      "execution_count": null,
      "outputs": []
    },
    {
      "cell_type": "code",
      "metadata": {
        "colab_type": "code",
        "id": "_OhIfuJoiLra",
        "colab": {}
      },
      "source": [
        "rf_cv_model = GridSearchCV(rf_model, \n",
        "                           rf_params, \n",
        "                           cv = 10, \n",
        "                            n_jobs = -1)# CPU full çalışır bunu yazarsan"
      ],
      "execution_count": null,
      "outputs": []
    },
    {
      "cell_type": "code",
      "metadata": {
        "colab_type": "code",
        "id": "koplDu-CiLf_",
        "colab": {
          "base_uri": "https://localhost:8080/",
          "height": 369
        },
        "outputId": "c2c34cd3-0489-47e1-b857-e7aa351e61da"
      },
      "source": [
        "rf_cv_model.fit(X_train, y_train)"
      ],
      "execution_count": null,
      "outputs": [
        {
          "output_type": "execute_result",
          "data": {
            "text/plain": [
              "GridSearchCV(cv=10, error_score=nan,\n",
              "             estimator=RandomForestRegressor(bootstrap=True, ccp_alpha=0.0,\n",
              "                                             criterion='mse', max_depth=None,\n",
              "                                             max_features='auto',\n",
              "                                             max_leaf_nodes=None,\n",
              "                                             max_samples=None,\n",
              "                                             min_impurity_decrease=0.0,\n",
              "                                             min_impurity_split=None,\n",
              "                                             min_samples_leaf=1,\n",
              "                                             min_samples_split=2,\n",
              "                                             min_weight_fraction_leaf=0.0,\n",
              "                                             n_estimators=100, n_jobs=None,\n",
              "                                             oob_score=False, random_state=42,\n",
              "                                             verbose=0, warm_start=False),\n",
              "             iid='deprecated', n_jobs=-1,\n",
              "             param_grid={'max_depth': [1, 2, 3, 4, 5, 6, 7, 8, 9],\n",
              "                         'max_features': [3, 5, 10, 15],\n",
              "                         'n_estimators': [100, 200, 500, 1000, 2000]},\n",
              "             pre_dispatch='2*n_jobs', refit=True, return_train_score=False,\n",
              "             scoring=None, verbose=0)"
            ]
          },
          "metadata": {
            "tags": []
          },
          "execution_count": 38
        }
      ]
    },
    {
      "cell_type": "code",
      "metadata": {
        "colab_type": "code",
        "id": "cmn93o5rnAj3",
        "colab": {
          "base_uri": "https://localhost:8080/",
          "height": 34
        },
        "outputId": "42f34794-66df-4ef2-cec0-6c623646740a"
      },
      "source": [
        "#Buradan gelen verilerle modeli oluşturup modeli eğittim\n",
        "rf_cv_model.best_params_"
      ],
      "execution_count": null,
      "outputs": [
        {
          "output_type": "execute_result",
          "data": {
            "text/plain": [
              "{'max_depth': 6, 'max_features': 3, 'n_estimators': 200}"
            ]
          },
          "metadata": {
            "tags": []
          },
          "execution_count": 39
        }
      ]
    },
    {
      "cell_type": "code",
      "metadata": {
        "colab_type": "code",
        "id": "RaHASyKMnAf2",
        "colab": {}
      },
      "source": [
        "rf_tuned = RandomForestRegressor(max_depth  = 6, \n",
        "                                 max_features = 3, \n",
        "                                 n_estimators =200)"
      ],
      "execution_count": null,
      "outputs": []
    },
    {
      "cell_type": "code",
      "metadata": {
        "colab_type": "code",
        "id": "ozlMgiwZnAYE",
        "colab": {
          "base_uri": "https://localhost:8080/",
          "height": 140
        },
        "outputId": "e2a39e84-06cb-41f0-d840-ffb1b61854e3"
      },
      "source": [
        "rf_tuned.fit(X_train, y_train)"
      ],
      "execution_count": null,
      "outputs": [
        {
          "output_type": "execute_result",
          "data": {
            "text/plain": [
              "RandomForestRegressor(bootstrap=True, ccp_alpha=0.0, criterion='mse',\n",
              "                      max_depth=6, max_features=3, max_leaf_nodes=None,\n",
              "                      max_samples=None, min_impurity_decrease=0.0,\n",
              "                      min_impurity_split=None, min_samples_leaf=1,\n",
              "                      min_samples_split=2, min_weight_fraction_leaf=0.0,\n",
              "                      n_estimators=200, n_jobs=None, oob_score=False,\n",
              "                      random_state=None, verbose=0, warm_start=False)"
            ]
          },
          "metadata": {
            "tags": []
          },
          "execution_count": 41
        }
      ]
    },
    {
      "cell_type": "code",
      "metadata": {
        "colab_type": "code",
        "id": "qQUKnFzqnAWw",
        "colab": {}
      },
      "source": [
        "#Tahmin karşılaştırma\n",
        "y_pred = rf_tuned.predict(X_test)"
      ],
      "execution_count": null,
      "outputs": []
    },
    {
      "cell_type": "code",
      "metadata": {
        "colab_type": "code",
        "id": "hGDvK5HJnATK",
        "colab": {
          "base_uri": "https://localhost:8080/",
          "height": 34
        },
        "outputId": "4d061f97-ab65-40a5-c76e-afb094cfa544"
      },
      "source": [
        "rf_tuned.score(X_test,y_test)# Başarım"
      ],
      "execution_count": null,
      "outputs": [
        {
          "output_type": "execute_result",
          "data": {
            "text/plain": [
              "0.9842725126829529"
            ]
          },
          "metadata": {
            "tags": []
          },
          "execution_count": 44
        }
      ]
    },
    {
      "cell_type": "code",
      "metadata": {
        "id": "dyNgcAFlswkf",
        "colab_type": "code",
        "colab": {
          "base_uri": "https://localhost:8080/",
          "height": 34
        },
        "outputId": "4f771e22-e096-4b61-97e9-5a613bf6b90b"
      },
      "source": [
        "np.sqrt(mean_squared_error(y_test, y_pred))\n",
        "#Hata Kare Ortalaması : Tahmin edilen değerler gerçek değerlere ne kadar yakınsa Hata Kare Ortalaması o kadar küçük olur; \n",
        "#gerçek değerlerden ne kadar uzaklaşırsa Hata Kare Ortalaması o kadar büyük olur. \n"
      ],
      "execution_count": null,
      "outputs": [
        {
          "output_type": "execute_result",
          "data": {
            "text/plain": [
              "4.473599963299146"
            ]
          },
          "metadata": {
            "tags": []
          },
          "execution_count": 45
        }
      ]
    },
    {
      "cell_type": "code",
      "metadata": {
        "id": "j3vL5Xug9Mv3",
        "colab_type": "code",
        "colab": {}
      },
      "source": [
        "#Hava kalitesi indeksini en çok etkileyen veriyi aşağıda gösterdim \n",
        "Importance = pd.DataFrame({\"Önem Derecesi\": rf_tuned.feature_importances_*100},\n",
        "                         index = X_train.columns)"
      ],
      "execution_count": null,
      "outputs": []
    },
    {
      "cell_type": "code",
      "metadata": {
        "id": "VWMrmO1u9NAs",
        "colab_type": "code",
        "colab": {
          "base_uri": "https://localhost:8080/",
          "height": 462
        },
        "outputId": "62f6003a-72c8-4650-eb7e-c13ef8283a4e"
      },
      "source": [
        "Importance.sort_values(by = \"Önem Derecesi\", \n",
        "                       axis = 0, \n",
        "                       ascending = True).plot(kind =\"barh\", color = \"r\")\n",
        "\n",
        "plt.xlabel(\"Değişken Önem Düzeyleri\")"
      ],
      "execution_count": null,
      "outputs": [
        {
          "output_type": "execute_result",
          "data": {
            "text/plain": [
              "Text(0.5, 0, 'Değişken Önem Düzeyleri')"
            ]
          },
          "metadata": {
            "tags": []
          },
          "execution_count": 47
        },
        {
          "output_type": "display_data",
          "data": {
            "image/png": "[encoded data removed]",
            "text/plain": [
              "<Figure size 720x504 with 1 Axes>"
            ]
          },
          "metadata": {
            "tags": [],
            "needs_background": "light"
          }
        }
      ]
    },
    {
      "cell_type": "code",
      "metadata": {
        "id": "INLI9YT99M_k",
        "colab_type": "code",
        "colab": {
          "base_uri": "https://localhost:8080/",
          "height": 548
        },
        "outputId": "bf6a8bf4-4ad6-44df-e2cf-9dcd9cbcdf11"
      },
      "source": [
        "import pandas as pd\n",
        "import seaborn as sn\n",
        "import matplotlib.pyplot as plt\n",
        "\n",
        "data = {'Gerçek':    list(y_test),\n",
        "        'Tahmin': list(y_pred)\n",
        "        }\n",
        "\n",
        "df = pd.DataFrame(data, columns=['Gerçek','Tahmin'])\n",
        "confusion_matrix = pd.crosstab(df['Gerçek'], df['Tahmin'], rownames=['Gerçek'], colnames=['Tahmin'])\n",
        "\n",
        "sn.heatmap(confusion_matrix, annot=True)\n",
        "plt.show()"
      ],
      "execution_count": null,
      "outputs": [
        {
          "output_type": "display_data",
          "data": {
            "image/png": "[encoded data removed]",
            "text/plain": [
              "<Figure size 720x504 with 2 Axes>"
            ]
          },
          "metadata": {
            "tags": [],
            "needs_background": "light"
          }
        }
      ]
    },
    {
      "cell_type": "code",
      "metadata": {
        "id": "pGAgr3yA9M9Z",
        "colab_type": "code",
        "colab": {}
      },
      "source": [
        "df.head()"
      ],
      "execution_count": null,
      "outputs": []
    },
    {
      "cell_type": "code",
      "metadata": {
        "id": "6Fp03Zcm9M4R",
        "colab_type": "code",
        "colab": {
          "base_uri": "https://localhost:8080/",
          "height": 195
        },
        "outputId": "966db84e-f892-4866-cfc0-075e979fec31"
      },
      "source": [
        "dataset_test.head()"
      ],
      "execution_count": null,
      "outputs": [
        {
          "output_type": "execute_result",
          "data": {
            "text/html": [
              "<div>\n",
              "<style scoped>\n",
              "    .dataframe tbody tr th:only-of-type {\n",
              "        vertical-align: middle;\n",
              "    }\n",
              "\n",
              "    .dataframe tbody tr th {\n",
              "        vertical-align: top;\n",
              "    }\n",
              "\n",
              "    .dataframe thead th {\n",
              "        text-align: right;\n",
              "    }\n",
              "</style>\n",
              "<table border=\"1\" class=\"dataframe\">\n",
              "  <thead>\n",
              "    <tr style=\"text-align: right;\">\n",
              "      <th></th>\n",
              "      <th>Tarih</th>\n",
              "      <th>si</th>\n",
              "      <th>ni</th>\n",
              "      <th>spi</th>\n",
              "      <th>rpi</th>\n",
              "      <th>AQI</th>\n",
              "    </tr>\n",
              "  </thead>\n",
              "  <tbody>\n",
              "    <tr>\n",
              "      <th>0</th>\n",
              "      <td>1/1/2020</td>\n",
              "      <td>5.787291</td>\n",
              "      <td>39.812014</td>\n",
              "      <td>15.095931</td>\n",
              "      <td>26.771260</td>\n",
              "      <td>39.812014</td>\n",
              "    </tr>\n",
              "    <tr>\n",
              "      <th>1</th>\n",
              "      <td>1/2/2020</td>\n",
              "      <td>7.417321</td>\n",
              "      <td>91.298177</td>\n",
              "      <td>30.495416</td>\n",
              "      <td>25.596346</td>\n",
              "      <td>91.298177</td>\n",
              "    </tr>\n",
              "    <tr>\n",
              "      <th>2</th>\n",
              "      <td>1/3/2020</td>\n",
              "      <td>8.001732</td>\n",
              "      <td>97.015695</td>\n",
              "      <td>47.332137</td>\n",
              "      <td>47.816514</td>\n",
              "      <td>97.015695</td>\n",
              "    </tr>\n",
              "    <tr>\n",
              "      <th>3</th>\n",
              "      <td>1/4/2020</td>\n",
              "      <td>8.641870</td>\n",
              "      <td>93.013134</td>\n",
              "      <td>34.253095</td>\n",
              "      <td>44.418074</td>\n",
              "      <td>93.013134</td>\n",
              "    </tr>\n",
              "    <tr>\n",
              "      <th>4</th>\n",
              "      <td>1/5/2020</td>\n",
              "      <td>7.929103</td>\n",
              "      <td>92.103891</td>\n",
              "      <td>43.870343</td>\n",
              "      <td>49.588542</td>\n",
              "      <td>92.103891</td>\n",
              "    </tr>\n",
              "  </tbody>\n",
              "</table>\n",
              "</div>"
            ],
            "text/plain": [
              "      Tarih        si         ni        spi        rpi        AQI\n",
              "0  1/1/2020  5.787291  39.812014  15.095931  26.771260  39.812014\n",
              "1  1/2/2020  7.417321  91.298177  30.495416  25.596346  91.298177\n",
              "2  1/3/2020  8.001732  97.015695  47.332137  47.816514  97.015695\n",
              "3  1/4/2020  8.641870  93.013134  34.253095  44.418074  93.013134\n",
              "4  1/5/2020  7.929103  92.103891  43.870343  49.588542  92.103891"
            ]
          },
          "metadata": {
            "tags": []
          },
          "execution_count": 51
        }
      ]
    },
    {
      "cell_type": "code",
      "metadata": {
        "id": "kZv6VDVu9M01",
        "colab_type": "code",
        "colab": {}
      },
      "source": [
        "dfaa = pd.concat([dataset_test['Tarih'], df], axis=1, sort=False)"
      ],
      "execution_count": null,
      "outputs": []
    },
    {
      "cell_type": "code",
      "metadata": {
        "id": "9mIH5qXD9MuX",
        "colab_type": "code",
        "colab": {}
      },
      "source": [
        "dfaa[\"Tarih\"] = pd.to_datetime(dfaa[\"Tarih\"])"
      ],
      "execution_count": null,
      "outputs": []
    },
    {
      "cell_type": "code",
      "metadata": {
        "id": "ToYEtAGp9Msc",
        "colab_type": "code",
        "colab": {}
      },
      "source": [
        "dfaaa = dfaa[:-82]"
      ],
      "execution_count": null,
      "outputs": []
    },
    {
      "cell_type": "code",
      "metadata": {
        "id": "wg5lSgEF9Mq1",
        "colab_type": "code",
        "colab": {
          "base_uri": "https://localhost:8080/",
          "height": 411
        },
        "outputId": "6034c2da-ca52-4aa7-c2a3-fa01c5fbc3ee"
      },
      "source": [
        "dff=dfaaa.set_index('Tarih')\n",
        "dff.sort_values(by='Tarih',ascending=False)\n",
        "dff.plot(figsize=(10, 6))\n",
        "plt.ylabel(\"AQI\")\n",
        "y=dff.Gerçek"
      ],
      "execution_count": null,
      "outputs": [
        {
          "output_type": "display_data",
          "data": {
            "image/png": "[encoded data removed]",
            "text/plain": [
              "<Figure size 720x432 with 1 Axes>"
            ]
          },
          "metadata": {
            "tags": [],
            "needs_background": "light"
          }
        }
      ]
    },
    {
      "cell_type": "code",
      "metadata": {
        "id": "_cVQm4Nx9Mou",
        "colab_type": "code",
        "colab": {}
      },
      "source": [
        "y_testt = np.array([93.182451, 108.784507, 92.103891, 33.513136, 137.910898, 138.657826, 43.153964,\n",
        "          132.109325, 33.952261, 103.585015, 46.422261, 44.631238, 39.812014, 88.485473,\n",
        "           84.396479, 83.579730, 125.100762, 88.487689, 125.185675, 132.399083, 49.946491, \n",
        "           46.087596, 124.946099, 130.288888, 87.693771, 93.929713, 113.633666,40.443740])"
      ],
      "execution_count": null,
      "outputs": []
    },
    {
      "cell_type": "code",
      "metadata": {
        "id": "s9FBorqu9Mjq",
        "colab_type": "code",
        "colab": {
          "base_uri": "https://localhost:8080/",
          "height": 70
        },
        "outputId": "84837e4d-9c16-47bb-ffa9-6726785f9310"
      },
      "source": [
        "#Tam sayı dönüşümü\n",
        "y_testt = np.around(y_testt)\n",
        "y_testt = y_testt.astype(int)\n",
        "y_testt"
      ],
      "execution_count": null,
      "outputs": [
        {
          "output_type": "execute_result",
          "data": {
            "text/plain": [
              "array([ 93, 109,  92,  34, 138, 139,  43, 132,  34, 104,  46,  45,  40,\n",
              "        88,  84,  84, 125,  88, 125, 132,  50,  46, 125, 130,  88,  94,\n",
              "       114,  40])"
            ]
          },
          "metadata": {
            "tags": []
          },
          "execution_count": 57
        }
      ]
    },
    {
      "cell_type": "code",
      "metadata": {
        "id": "Y8Aaerak9n0t",
        "colab_type": "code",
        "colab": {
          "base_uri": "https://localhost:8080/",
          "height": 70
        },
        "outputId": "655e8b02-3673-4228-82b2-90cc24694cf5"
      },
      "source": [
        "y_pred = np.around(y_pred)\n",
        "y_pred = y_pred.astype(int)\n",
        "y_pred"
      ],
      "execution_count": null,
      "outputs": [
        {
          "output_type": "execute_result",
          "data": {
            "text/plain": [
              "array([ 93, 109,  93,  36, 126, 127,  44, 128,  36, 107,  45,  45,  41,\n",
              "        88,  85,  83, 122,  87, 124, 123,  49,  49, 120, 121,  91,  93,\n",
              "       113,  40])"
            ]
          },
          "metadata": {
            "tags": []
          },
          "execution_count": 59
        }
      ]
    },
    {
      "cell_type": "code",
      "metadata": {
        "id": "VpQ56p8N9n7q",
        "colab_type": "code",
        "colab": {
          "base_uri": "https://localhost:8080/",
          "height": 70
        },
        "outputId": "98df6b96-e077-4fe3-f154-e0c77275a96a"
      },
      "source": [
        "from sklearn.metrics import precision_score\n",
        "from sklearn.metrics import recall_score\n",
        "from sklearn.metrics import f1_score\n",
        "\n",
        "# Model Değerlendirmesi\n",
        "\n",
        "pre = precision_score(y_testt, y_pred, average='weighted')\n",
        "recall = recall_score(y_testt, y_pred,average='weighted')\n",
        "f1 = f1_score(y_testt, y_pred, average='weighted')\n",
        "\n",
        "#Getirilen bilgideki doğru sonuçların, getirilen bilginin tamamına oranı olarak hesaplanır.\n",
        "print(\"Kesinlik : %f \"% pre)\n",
        "\n",
        "#Getirilen doğru sonuçların, getirilmesi gereken doğru sonuçlara oranı ile hesaplanır.\n",
        "print(\"Hassasiyet: %f \" % recall)\n",
        "\n",
        "#F1 skoru, bu değerlerin(kesinlik ve hassasiyet) harmonik ortalamasıdır\n",
        "print('F1 Skor: %f' % f1)\n"
      ],
      "execution_count": null,
      "outputs": [
        {
          "output_type": "stream",
          "text": [
            "Kesinlik : 0.244048 \n",
            "Hassasiyet: 0.178571 \n",
            "F1 Skor: 0.178571\n"
          ],
          "name": "stdout"
        }
      ]
    },
    {
      "cell_type": "code",
      "metadata": {
        "id": "iPExK2Ow9n4p",
        "colab_type": "code",
        "colab": {}
      },
      "source": [
        ""
      ],
      "execution_count": null,
      "outputs": []
    },
    {
      "cell_type": "code",
      "metadata": {
        "id": "uShIo1bx9nyg",
        "colab_type": "code",
        "colab": {}
      },
      "source": [
        ""
      ],
      "execution_count": null,
      "outputs": []
    },
    {
      "cell_type": "code",
      "metadata": {
        "id": "ExmHkvZL9nvt",
        "colab_type": "code",
        "colab": {}
      },
      "source": [
        ""
      ],
      "execution_count": null,
      "outputs": []
    },
    {
      "cell_type": "code",
      "metadata": {
        "id": "7okh9TQC9ntU",
        "colab_type": "code",
        "colab": {}
      },
      "source": [
        ""
      ],
      "execution_count": null,
      "outputs": []
    },
    {
      "cell_type": "code",
      "metadata": {
        "id": "301KUq2r9nr0",
        "colab_type": "code",
        "colab": {}
      },
      "source": [
        ""
      ],
      "execution_count": null,
      "outputs": []
    },
    {
      "cell_type": "code",
      "metadata": {
        "id": "iY8LlJVy9nqU",
        "colab_type": "code",
        "colab": {}
      },
      "source": [
        ""
      ],
      "execution_count": null,
      "outputs": []
    },
    {
      "cell_type": "code",
      "metadata": {
        "id": "dGYXCdVF9noW",
        "colab_type": "code",
        "colab": {}
      },
      "source": [
        ""
      ],
      "execution_count": null,
      "outputs": []
    },
    {
      "cell_type": "code",
      "metadata": {
        "id": "qukmt-Sq9nkg",
        "colab_type": "code",
        "colab": {}
      },
      "source": [
        ""
      ],
      "execution_count": null,
      "outputs": []
    }
  ]
}